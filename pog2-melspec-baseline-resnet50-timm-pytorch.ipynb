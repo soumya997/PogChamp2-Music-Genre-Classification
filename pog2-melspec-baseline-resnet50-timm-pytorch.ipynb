{
 "cells": [
  {
   "cell_type": "markdown",
   "id": "33d188ff",
   "metadata": {
    "papermill": {
     "duration": 0.042938,
     "end_time": "2022-04-13T07:04:33.778338",
     "exception": false,
     "start_time": "2022-04-13T07:04:33.735400",
     "status": "completed"
    },
    "tags": []
   },
   "source": [
    "TOC:\n",
    "1. [x] Imports and import config\n",
    "2. [x] Set device           \n",
    "3. [x] Set Hyperparameters\n",
    "4. [x] Load data\n",
    "5. [x] Define Model\n",
    "6. [x] Sanity check on model\n",
    "7. [x] Initialize Model\n",
    "8. [x] Define Loss and optimizer\n",
    "9. [x] Training loop [training and validaion loop]\n",
    "10. [x] Validation"
   ]
  },
  {
   "cell_type": "markdown",
   "id": "1673174c",
   "metadata": {
    "papermill": {
     "duration": 0.042127,
     "end_time": "2022-04-13T07:04:33.861803",
     "exception": false,
     "start_time": "2022-04-13T07:04:33.819676",
     "status": "completed"
    },
    "tags": []
   },
   "source": [
    "# Imports and import config"
   ]
  },
  {
   "cell_type": "code",
   "execution_count": 1,
   "id": "76f6d3bd",
   "metadata": {
    "execution": {
     "iopub.execute_input": "2022-04-13T07:04:33.957274Z",
     "iopub.status.busy": "2022-04-13T07:04:33.956499Z",
     "iopub.status.idle": "2022-04-13T07:04:43.857489Z",
     "shell.execute_reply": "2022-04-13T07:04:43.858308Z",
     "shell.execute_reply.started": "2022-03-21T13:14:55.402657Z"
    },
    "papermill": {
     "duration": 9.953737,
     "end_time": "2022-04-13T07:04:43.858568",
     "exception": false,
     "start_time": "2022-04-13T07:04:33.904831",
     "status": "completed"
    },
    "tags": []
   },
   "outputs": [
    {
     "name": "stdout",
     "output_type": "stream",
     "text": [
      "\u001b[33mWARNING: Running pip as the 'root' user can result in broken permissions and conflicting behaviour with the system package manager. It is recommended to use a virtual environment instead: https://pip.pypa.io/warnings/venv\u001b[0m\r\n"
     ]
    }
   ],
   "source": [
    "!pip install -q timm"
   ]
  },
  {
   "cell_type": "code",
   "execution_count": 2,
   "id": "8f34bbc5",
   "metadata": {
    "_cell_guid": "b1076dfc-b9ad-4769-8c92-a6c4dae69d19",
    "_uuid": "8f2839f25d086af736a60e9eeb907d3b93b6e0e5",
    "execution": {
     "iopub.execute_input": "2022-04-13T07:04:43.953276Z",
     "iopub.status.busy": "2022-04-13T07:04:43.952518Z",
     "iopub.status.idle": "2022-04-13T07:04:48.937887Z",
     "shell.execute_reply": "2022-04-13T07:04:48.937403Z",
     "shell.execute_reply.started": "2022-03-25T13:49:09.551259Z"
    },
    "papermill": {
     "duration": 5.034898,
     "end_time": "2022-04-13T07:04:48.938030",
     "exception": false,
     "start_time": "2022-04-13T07:04:43.903132",
     "status": "completed"
    },
    "tags": []
   },
   "outputs": [],
   "source": [
    "# Imports\n",
    "import torch\n",
    "import torchvision # torch package for vision related things\n",
    "import torch.nn.functional as F  # Parameterless functions, like (some) activation functions\n",
    "import torchvision.datasets as datasets  # Standard datasets\n",
    "import torchvision.transforms as transforms  # Transformations we can perform on our dataset for augmentation\n",
    "from torch import optim  # For optimizers like SGD, Adam, etc.\n",
    "from torch import nn  # All neural network modules\n",
    "from torch.utils.data import Dataset, DataLoader  # Gives easier dataset managment by creating mini batches etc.\n",
    "from tqdm import tqdm  # For nice progress bar!\n",
    "from torchvision.transforms import Resize\n",
    "from torchaudio.transforms import MelSpectrogram, AmplitudeToDB\n",
    "import timm\n",
    "import random\n",
    "\n",
    "from albumentations.pytorch.transforms import ToTensorV2\n",
    "import albumentations as A\n",
    "\n",
    "import pandas as pd\n",
    "import numpy as np\n",
    "import matplotlib.pyplot as plt\n",
    "import cv2\n",
    "import os\n",
    "import glob\n",
    "import time\n",
    "import random\n",
    "\n",
    "# Sklearn Imports\n",
    "from sklearn.preprocessing import LabelEncoder\n",
    "from sklearn.model_selection import StratifiedKFold\n",
    "from sklearn.metrics import f1_score\n",
    "\n",
    "# For colored terminal text\n",
    "from colorama import Fore, Back, Style\n",
    "c_ = Fore.CYAN\n",
    "sr_ = Style.RESET_ALL\n",
    "b_ = Fore.BLUE\n",
    "\n",
    "# For descriptive error messages\n",
    "os.environ['CUDA_LAUNCH_BLOCKING'] = \"1\""
   ]
  },
  {
   "cell_type": "markdown",
   "id": "477eedb0",
   "metadata": {
    "papermill": {
     "duration": 0.041207,
     "end_time": "2022-04-13T07:04:49.020395",
     "exception": false,
     "start_time": "2022-04-13T07:04:48.979188",
     "status": "completed"
    },
    "tags": []
   },
   "source": [
    "# Import Config & Set device    "
   ]
  },
  {
   "cell_type": "code",
   "execution_count": 3,
   "id": "1002cfd8",
   "metadata": {
    "execution": {
     "iopub.execute_input": "2022-04-13T07:04:49.176914Z",
     "iopub.status.busy": "2022-04-13T07:04:49.175472Z",
     "iopub.status.idle": "2022-04-13T07:04:49.181553Z",
     "shell.execute_reply": "2022-04-13T07:04:49.180782Z",
     "shell.execute_reply.started": "2022-03-21T13:15:10.977068Z"
    },
    "papermill": {
     "duration": 0.120139,
     "end_time": "2022-04-13T07:04:49.181687",
     "exception": false,
     "start_time": "2022-04-13T07:04:49.061548",
     "status": "completed"
    },
    "tags": []
   },
   "outputs": [],
   "source": [
    "# Import Config\n",
    "pd.set_option('display.max_colwidth', None)\n",
    "# torch.set_default_tensor_type('torch.cuda.FloatTensor')\n",
    "\n",
    "# Set device\n",
    "device = torch.device(\"cuda\" if torch.cuda.is_available() else \"cpu\")\n",
    "\n",
    "# seeding for reproducibility\n",
    "def seed_everything(seed=1234):\n",
    "    random.seed(seed)\n",
    "    os.environ['PYTHONHASHSEED'] = str(seed)\n",
    "    np.random.seed(seed)\n",
    "    torch.manual_seed(seed)\n",
    "    torch.cuda.manual_seed(seed)\n",
    "    torch.backends.cudnn.deterministic = True\n",
    "\n",
    "seed_everything()"
   ]
  },
  {
   "cell_type": "markdown",
   "id": "a9218b57",
   "metadata": {
    "papermill": {
     "duration": 0.041176,
     "end_time": "2022-04-13T07:04:49.263956",
     "exception": false,
     "start_time": "2022-04-13T07:04:49.222780",
     "status": "completed"
    },
    "tags": []
   },
   "source": [
    "# Set Hyperparameters"
   ]
  },
  {
   "cell_type": "code",
   "execution_count": 4,
   "id": "05110e93",
   "metadata": {
    "execution": {
     "iopub.execute_input": "2022-04-13T07:04:49.351388Z",
     "iopub.status.busy": "2022-04-13T07:04:49.350603Z",
     "iopub.status.idle": "2022-04-13T07:04:49.353091Z",
     "shell.execute_reply": "2022-04-13T07:04:49.352632Z",
     "shell.execute_reply.started": "2022-03-21T13:15:11.027265Z"
    },
    "papermill": {
     "duration": 0.048256,
     "end_time": "2022-04-13T07:04:49.353211",
     "exception": false,
     "start_time": "2022-04-13T07:04:49.304955",
     "status": "completed"
    },
    "tags": []
   },
   "outputs": [],
   "source": [
    "# Hyperparameters\n",
    "cfg = {\n",
    "        \"in_channels\" :1,\n",
    "        \"num_classes\": 19,\n",
    "        \"learning_rate\" : 0.0001 * 8,\n",
    "        \"batch_size\" : 32,\n",
    "        \"num_epochs\" : 2,\n",
    "        \"n_accumulate\": 1,\n",
    "        \"competition\": \"pogchamp2\",\n",
    "        \"model_name\": \"resnet50\",\n",
    "        \"device\": torch.device(\"cuda:0\" if torch.cuda.is_available() else \"cpu\"),\n",
    "\n",
    "}\n",
    "CONFIG = cfg"
   ]
  },
  {
   "cell_type": "markdown",
   "id": "afa4b44b",
   "metadata": {
    "papermill": {
     "duration": 0.040953,
     "end_time": "2022-04-13T07:04:49.434712",
     "exception": false,
     "start_time": "2022-04-13T07:04:49.393759",
     "status": "completed"
    },
    "tags": []
   },
   "source": [
    "# Setup W&B"
   ]
  },
  {
   "cell_type": "code",
   "execution_count": 5,
   "id": "fe085a48",
   "metadata": {
    "execution": {
     "iopub.execute_input": "2022-04-13T07:04:49.530144Z",
     "iopub.status.busy": "2022-04-13T07:04:49.523116Z",
     "iopub.status.idle": "2022-04-13T07:04:58.727023Z",
     "shell.execute_reply": "2022-04-13T07:04:58.726519Z",
     "shell.execute_reply.started": "2022-03-21T13:15:11.037589Z"
    },
    "papermill": {
     "duration": 9.251583,
     "end_time": "2022-04-13T07:04:58.727164",
     "exception": false,
     "start_time": "2022-04-13T07:04:49.475581",
     "status": "completed"
    },
    "tags": []
   },
   "outputs": [
    {
     "name": "stderr",
     "output_type": "stream",
     "text": [
      "\u001b[34m\u001b[1mwandb\u001b[0m: W&B API key is configured (use `wandb login --relogin` to force relogin)\n",
      "\u001b[34m\u001b[1mwandb\u001b[0m: \u001b[33mWARNING\u001b[0m If you're specifying your api key in code, ensure this code is not shared publicly.\n",
      "\u001b[34m\u001b[1mwandb\u001b[0m: \u001b[33mWARNING\u001b[0m Consider setting the WANDB_API_KEY environment variable, or running `wandb login` from the command line.\n",
      "\u001b[34m\u001b[1mwandb\u001b[0m: Appending key for api.wandb.ai to your netrc file: /root/.netrc\n",
      "\u001b[34m\u001b[1mwandb\u001b[0m: Currently logged in as: \u001b[33msomusan\u001b[0m (use `wandb login --relogin` to force relogin)\n"
     ]
    },
    {
     "data": {
      "text/html": [
       "wandb version 0.12.14 is available!  To upgrade, please run:\n",
       " $ pip install wandb --upgrade"
      ],
      "text/plain": [
       "<IPython.core.display.HTML object>"
      ]
     },
     "metadata": {},
     "output_type": "display_data"
    },
    {
     "data": {
      "text/html": [
       "Tracking run with wandb version 0.12.11"
      ],
      "text/plain": [
       "<IPython.core.display.HTML object>"
      ]
     },
     "metadata": {},
     "output_type": "display_data"
    },
    {
     "data": {
      "text/html": [
       "Run data is saved locally in <code>/kaggle/working/wandb/run-20220413_070451-2klievti</code>"
      ],
      "text/plain": [
       "<IPython.core.display.HTML object>"
      ]
     },
     "metadata": {},
     "output_type": "display_data"
    },
    {
     "data": {
      "text/html": [
       "Syncing run <strong><a href=\"https://wandb.ai/somusan/pogchamp2/runs/2klievti\" target=\"_blank\">resnet50 timm classification</a></strong> to <a href=\"https://wandb.ai/somusan/pogchamp2\" target=\"_blank\">Weights & Biases</a> (<a href=\"https://wandb.me/run\" target=\"_blank\">docs</a>)<br/>"
      ],
      "text/plain": [
       "<IPython.core.display.HTML object>"
      ]
     },
     "metadata": {},
     "output_type": "display_data"
    }
   ],
   "source": [
    "import wandb\n",
    "\n",
    "try:\n",
    "    from kaggle_secrets import UserSecretsClient\n",
    "    user_secrets = UserSecretsClient()\n",
    "    api_key = user_secrets.get_secret(\"WANDB\")\n",
    "    wandb.login(key=api_key)\n",
    "    anonymous = None\n",
    "except:\n",
    "    anonymous = \"must\"\n",
    "    print('To use your W&B account,\\nGo to Add-ons -> Secrets and provide your W&B access token. Use the Label name as WANDB. \\nGet your W&B access token from here: https://wandb.ai/authorize')\n",
    "# wandb.init(project=\"PogChamp2 Baseline\")\n",
    "run = wandb.init(project=CONFIG['competition'], \n",
    "                 config=CONFIG,\n",
    "                 job_type='Train',\n",
    "                 tags=['classification', \"music\", CONFIG['model_name'],'timm'],\n",
    "                 anonymous='must',\n",
    "                 name = \"resnet50 timm classification\",\n",
    "                 notes = \"\")\n",
    "       \n",
    "# wandb.finish()"
   ]
  },
  {
   "cell_type": "markdown",
   "id": "b75258fc",
   "metadata": {
    "papermill": {
     "duration": 0.048927,
     "end_time": "2022-04-13T07:04:58.820513",
     "exception": false,
     "start_time": "2022-04-13T07:04:58.771586",
     "status": "completed"
    },
    "tags": []
   },
   "source": [
    "# Load data"
   ]
  },
  {
   "cell_type": "code",
   "execution_count": 6,
   "id": "df2b5f96",
   "metadata": {
    "execution": {
     "iopub.execute_input": "2022-04-13T07:04:58.933095Z",
     "iopub.status.busy": "2022-04-13T07:04:58.932438Z",
     "iopub.status.idle": "2022-04-13T07:05:01.968764Z",
     "shell.execute_reply": "2022-04-13T07:05:01.969514Z",
     "shell.execute_reply.started": "2022-03-25T13:49:19.147861Z"
    },
    "papermill": {
     "duration": 3.096605,
     "end_time": "2022-04-13T07:05:01.969678",
     "exception": false,
     "start_time": "2022-04-13T07:04:58.873073",
     "status": "completed"
    },
    "tags": []
   },
   "outputs": [],
   "source": [
    "## Reading spectograms and ignoring files not present\n",
    "\n",
    "df_train = pd.read_csv('../input/kaggle-pog-series-s01e02/train.csv')\n",
    "df_test = pd.read_csv('../input/kaggle-pog-series-s01e02/test.csv')\n",
    "\n",
    "df_train['ID'] = df_train['filename'].str.split('.').str[0]\n",
    "df_test['ID'] = df_test['filename'].str.split('.').str[0]\n",
    "\n",
    "train_files = pd.DataFrame(glob.glob('../input/pogchamp2spectogram/kaggle/spectograms/train/*.jpg'), columns=['spec_path'])\n",
    "test_files = pd.DataFrame(glob.glob('../input/pogchamp2spectogram/kaggle/spectograms/test/*.jpg'), columns=['spec_path'])\n",
    "\n",
    "train_files['ID'] = train_files['spec_path'].str.split('/').str[-1].str.split('.').str[0]\n",
    "test_files['ID'] = test_files['spec_path'].str.split('/').str[-1].str.split('.').str[0]\n",
    "\n",
    "df_train_spec = pd.merge(df_train, train_files, how='right', on='ID')\n",
    "df_test_spec = pd.merge(df_test, test_files, how='right', on='ID')"
   ]
  },
  {
   "cell_type": "code",
   "execution_count": 7,
   "id": "fdae725f",
   "metadata": {
    "execution": {
     "iopub.execute_input": "2022-04-13T07:05:02.073562Z",
     "iopub.status.busy": "2022-04-13T07:05:02.069346Z",
     "iopub.status.idle": "2022-04-13T07:05:02.924838Z",
     "shell.execute_reply": "2022-04-13T07:05:02.924041Z",
     "shell.execute_reply.started": "2022-03-25T13:49:22.070208Z"
    },
    "papermill": {
     "duration": 0.910587,
     "end_time": "2022-04-13T07:05:02.925012",
     "exception": false,
     "start_time": "2022-04-13T07:05:02.014425",
     "status": "completed"
    },
    "tags": []
   },
   "outputs": [
    {
     "name": "stdout",
     "output_type": "stream",
     "text": [
      "dataframe shape  (19909, 7)\n"
     ]
    },
    {
     "data": {
      "text/html": [
       "<div>\n",
       "<style scoped>\n",
       "    .dataframe tbody tr th:only-of-type {\n",
       "        vertical-align: middle;\n",
       "    }\n",
       "\n",
       "    .dataframe tbody tr th {\n",
       "        vertical-align: top;\n",
       "    }\n",
       "\n",
       "    .dataframe thead th {\n",
       "        text-align: right;\n",
       "    }\n",
       "</style>\n",
       "<table border=\"1\" class=\"dataframe\">\n",
       "  <thead>\n",
       "    <tr style=\"text-align: right;\">\n",
       "      <th></th>\n",
       "      <th>song_id</th>\n",
       "      <th>filename</th>\n",
       "      <th>filepath</th>\n",
       "      <th>genre_id</th>\n",
       "      <th>genre</th>\n",
       "      <th>ID</th>\n",
       "      <th>spec_path</th>\n",
       "    </tr>\n",
       "  </thead>\n",
       "  <tbody>\n",
       "    <tr>\n",
       "      <th>0</th>\n",
       "      <td>11035</td>\n",
       "      <td>011035.ogg</td>\n",
       "      <td>train/011035.ogg</td>\n",
       "      <td>1</td>\n",
       "      <td>Rock</td>\n",
       "      <td>011035</td>\n",
       "      <td>../input/pogchamp2spectogram/kaggle/spectograms/train/011035.jpg</td>\n",
       "    </tr>\n",
       "    <tr>\n",
       "      <th>1</th>\n",
       "      <td>304</td>\n",
       "      <td>000304.ogg</td>\n",
       "      <td>train/000304.ogg</td>\n",
       "      <td>1</td>\n",
       "      <td>Rock</td>\n",
       "      <td>000304</td>\n",
       "      <td>../input/pogchamp2spectogram/kaggle/spectograms/train/000304.jpg</td>\n",
       "    </tr>\n",
       "    <tr>\n",
       "      <th>2</th>\n",
       "      <td>12958</td>\n",
       "      <td>012958.ogg</td>\n",
       "      <td>train/012958.ogg</td>\n",
       "      <td>2</td>\n",
       "      <td>Punk</td>\n",
       "      <td>012958</td>\n",
       "      <td>../input/pogchamp2spectogram/kaggle/spectograms/train/012958.jpg</td>\n",
       "    </tr>\n",
       "    <tr>\n",
       "      <th>3</th>\n",
       "      <td>12248</td>\n",
       "      <td>012248.ogg</td>\n",
       "      <td>train/012248.ogg</td>\n",
       "      <td>0</td>\n",
       "      <td>Electronic</td>\n",
       "      <td>012248</td>\n",
       "      <td>../input/pogchamp2spectogram/kaggle/spectograms/train/012248.jpg</td>\n",
       "    </tr>\n",
       "    <tr>\n",
       "      <th>4</th>\n",
       "      <td>11502</td>\n",
       "      <td>011502.ogg</td>\n",
       "      <td>train/011502.ogg</td>\n",
       "      <td>1</td>\n",
       "      <td>Rock</td>\n",
       "      <td>011502</td>\n",
       "      <td>../input/pogchamp2spectogram/kaggle/spectograms/train/011502.jpg</td>\n",
       "    </tr>\n",
       "  </tbody>\n",
       "</table>\n",
       "</div>"
      ],
      "text/plain": [
       "   song_id    filename          filepath  genre_id       genre      ID  \\\n",
       "0    11035  011035.ogg  train/011035.ogg         1        Rock  011035   \n",
       "1      304  000304.ogg  train/000304.ogg         1        Rock  000304   \n",
       "2    12958  012958.ogg  train/012958.ogg         2        Punk  012958   \n",
       "3    12248  012248.ogg  train/012248.ogg         0  Electronic  012248   \n",
       "4    11502  011502.ogg  train/011502.ogg         1        Rock  011502   \n",
       "\n",
       "                                                          spec_path  \n",
       "0  ../input/pogchamp2spectogram/kaggle/spectograms/train/011035.jpg  \n",
       "1  ../input/pogchamp2spectogram/kaggle/spectograms/train/000304.jpg  \n",
       "2  ../input/pogchamp2spectogram/kaggle/spectograms/train/012958.jpg  \n",
       "3  ../input/pogchamp2spectogram/kaggle/spectograms/train/012248.jpg  \n",
       "4  ../input/pogchamp2spectogram/kaggle/spectograms/train/011502.jpg  "
      ]
     },
     "execution_count": 7,
     "metadata": {},
     "output_type": "execute_result"
    }
   ],
   "source": [
    "print(\"dataframe shape \", df_train_spec.shape)\n",
    "df_train_spec.head()"
   ]
  },
  {
   "cell_type": "code",
   "execution_count": 8,
   "id": "586763c6",
   "metadata": {
    "execution": {
     "iopub.execute_input": "2022-04-13T07:05:03.036589Z",
     "iopub.status.busy": "2022-04-13T07:05:03.035741Z",
     "iopub.status.idle": "2022-04-13T07:05:05.404671Z",
     "shell.execute_reply": "2022-04-13T07:05:05.404147Z",
     "shell.execute_reply.started": "2022-03-21T13:15:23.566931Z"
    },
    "papermill": {
     "duration": 2.426767,
     "end_time": "2022-04-13T07:05:05.404793",
     "exception": false,
     "start_time": "2022-04-13T07:05:02.978026",
     "status": "completed"
    },
    "tags": []
   },
   "outputs": [
    {
     "name": "stdout",
     "output_type": "stream",
     "text": [
      "\u001b[36madded index 024156.ogg\n",
      "\u001b[36madded index 013375.ogg\n",
      "\u001b[36madded index 019511.ogg\n",
      "\u001b[36madded index 024247.ogg\n",
      "\u001b[36madded index 005589.ogg\n",
      "\u001b[36madded index 010449.ogg\n",
      "\u001b[36madded index 004921.ogg\n",
      "total deleted file count:  7\n"
     ]
    }
   ],
   "source": [
    "excluded_files = ['003071.ogg', '003137.ogg', '004040.ogg', '009963.ogg',\n",
    "       '011088.ogg', '013954.ogg', '015980.ogg', '016312.ogg',\n",
    "       '017940.ogg', '022295.ogg', '022698.ogg', '023078.ogg',\n",
    "       '024899.ogg', \"010449.ogg\" , \"005589.ogg\" , \"004921.ogg\", \"019511.ogg\" , \"013375.ogg\" , \"024247.ogg\", \"024156.ogg\"]\n",
    "\n",
    "df = df_train_spec.copy()\n",
    "length = len(df)\n",
    "missing_file_index = []\n",
    "data = {\n",
    "    \"song_id\": [],\n",
    "    \"filename\": [],\n",
    "    \"filepath\": [],\n",
    "    \"genre_id\": [],\n",
    "    \"ID\": [],\n",
    "    \"spec_path\": []\n",
    "}\n",
    "\n",
    "deleted_cnt = 0\n",
    "\n",
    "\n",
    "for i in range(length):\n",
    "    if df[\"filename\"].iloc[i] in excluded_files:\n",
    "        missing_file_index.append(i)\n",
    "        temp = df[\"filename\"].iloc[i]\n",
    "        print(f\"{c_}added index {temp}\")\n",
    "        deleted_cnt+=1\n",
    "    else:\n",
    "        data[\"song_id\"].append(df[\"song_id\"].iloc[i])\n",
    "        data[\"filename\"].append(df[\"filename\"].iloc[i])\n",
    "        data[\"filepath\"].append(df[\"filepath\"].iloc[i])\n",
    "        data[\"genre_id\"].append(df[\"genre_id\"].iloc[i])\n",
    "        data[\"ID\"].append(df[\"ID\"].iloc[i])\n",
    "        data[\"spec_path\"].append(df[\"spec_path\"].iloc[i])\n",
    "#         temp = df[\"filename\"].iloc[i]\n",
    "#         print(f\"{b_} added --> {temp}\")\n",
    "\n",
    "print(\"total deleted file count: \", deleted_cnt)"
   ]
  },
  {
   "cell_type": "code",
   "execution_count": 9,
   "id": "9f88a311",
   "metadata": {
    "execution": {
     "iopub.execute_input": "2022-04-13T07:05:05.542225Z",
     "iopub.status.busy": "2022-04-13T07:05:05.541268Z",
     "iopub.status.idle": "2022-04-13T07:05:06.265571Z",
     "shell.execute_reply": "2022-04-13T07:05:06.265055Z",
     "shell.execute_reply.started": "2022-03-21T13:15:25.473055Z"
    },
    "papermill": {
     "duration": 0.807972,
     "end_time": "2022-04-13T07:05:06.265692",
     "exception": false,
     "start_time": "2022-04-13T07:05:05.457720",
     "status": "completed"
    },
    "tags": []
   },
   "outputs": [
    {
     "name": "stdout",
     "output_type": "stream",
     "text": [
      "shape (19902, 6)\n"
     ]
    },
    {
     "data": {
      "text/html": [
       "<div>\n",
       "<style scoped>\n",
       "    .dataframe tbody tr th:only-of-type {\n",
       "        vertical-align: middle;\n",
       "    }\n",
       "\n",
       "    .dataframe tbody tr th {\n",
       "        vertical-align: top;\n",
       "    }\n",
       "\n",
       "    .dataframe thead th {\n",
       "        text-align: right;\n",
       "    }\n",
       "</style>\n",
       "<table border=\"1\" class=\"dataframe\">\n",
       "  <thead>\n",
       "    <tr style=\"text-align: right;\">\n",
       "      <th></th>\n",
       "      <th>song_id</th>\n",
       "      <th>filename</th>\n",
       "      <th>filepath</th>\n",
       "      <th>genre_id</th>\n",
       "      <th>ID</th>\n",
       "      <th>spec_path</th>\n",
       "    </tr>\n",
       "  </thead>\n",
       "  <tbody>\n",
       "    <tr>\n",
       "      <th>0</th>\n",
       "      <td>11035</td>\n",
       "      <td>011035.ogg</td>\n",
       "      <td>train/011035.ogg</td>\n",
       "      <td>1</td>\n",
       "      <td>011035</td>\n",
       "      <td>../input/pogchamp2spectogram/kaggle/spectograms/train/011035.jpg</td>\n",
       "    </tr>\n",
       "    <tr>\n",
       "      <th>1</th>\n",
       "      <td>304</td>\n",
       "      <td>000304.ogg</td>\n",
       "      <td>train/000304.ogg</td>\n",
       "      <td>1</td>\n",
       "      <td>000304</td>\n",
       "      <td>../input/pogchamp2spectogram/kaggle/spectograms/train/000304.jpg</td>\n",
       "    </tr>\n",
       "    <tr>\n",
       "      <th>2</th>\n",
       "      <td>12958</td>\n",
       "      <td>012958.ogg</td>\n",
       "      <td>train/012958.ogg</td>\n",
       "      <td>2</td>\n",
       "      <td>012958</td>\n",
       "      <td>../input/pogchamp2spectogram/kaggle/spectograms/train/012958.jpg</td>\n",
       "    </tr>\n",
       "    <tr>\n",
       "      <th>3</th>\n",
       "      <td>12248</td>\n",
       "      <td>012248.ogg</td>\n",
       "      <td>train/012248.ogg</td>\n",
       "      <td>0</td>\n",
       "      <td>012248</td>\n",
       "      <td>../input/pogchamp2spectogram/kaggle/spectograms/train/012248.jpg</td>\n",
       "    </tr>\n",
       "    <tr>\n",
       "      <th>4</th>\n",
       "      <td>11502</td>\n",
       "      <td>011502.ogg</td>\n",
       "      <td>train/011502.ogg</td>\n",
       "      <td>1</td>\n",
       "      <td>011502</td>\n",
       "      <td>../input/pogchamp2spectogram/kaggle/spectograms/train/011502.jpg</td>\n",
       "    </tr>\n",
       "  </tbody>\n",
       "</table>\n",
       "</div>"
      ],
      "text/plain": [
       "   song_id    filename          filepath  genre_id      ID  \\\n",
       "0    11035  011035.ogg  train/011035.ogg         1  011035   \n",
       "1      304  000304.ogg  train/000304.ogg         1  000304   \n",
       "2    12958  012958.ogg  train/012958.ogg         2  012958   \n",
       "3    12248  012248.ogg  train/012248.ogg         0  012248   \n",
       "4    11502  011502.ogg  train/011502.ogg         1  011502   \n",
       "\n",
       "                                                          spec_path  \n",
       "0  ../input/pogchamp2spectogram/kaggle/spectograms/train/011035.jpg  \n",
       "1  ../input/pogchamp2spectogram/kaggle/spectograms/train/000304.jpg  \n",
       "2  ../input/pogchamp2spectogram/kaggle/spectograms/train/012958.jpg  \n",
       "3  ../input/pogchamp2spectogram/kaggle/spectograms/train/012248.jpg  \n",
       "4  ../input/pogchamp2spectogram/kaggle/spectograms/train/011502.jpg  "
      ]
     },
     "execution_count": 9,
     "metadata": {},
     "output_type": "execute_result"
    }
   ],
   "source": [
    "pure_df = pd.DataFrame(data)\n",
    "print(\"shape\", pure_df.shape)\n",
    "pure_df.head()"
   ]
  },
  {
   "cell_type": "code",
   "execution_count": 10,
   "id": "25abc42b",
   "metadata": {
    "execution": {
     "iopub.execute_input": "2022-04-13T07:05:06.375315Z",
     "iopub.status.busy": "2022-04-13T07:05:06.374488Z",
     "iopub.status.idle": "2022-04-13T07:05:07.102846Z",
     "shell.execute_reply": "2022-04-13T07:05:07.102372Z",
     "shell.execute_reply.started": "2022-03-21T13:15:25.524565Z"
    },
    "papermill": {
     "duration": 0.784771,
     "end_time": "2022-04-13T07:05:07.103010",
     "exception": false,
     "start_time": "2022-04-13T07:05:06.318239",
     "status": "completed"
    },
    "tags": []
   },
   "outputs": [],
   "source": [
    "from sklearn.model_selection import train_test_split\n",
    "train_df, valid_df = train_test_split(pure_df, test_size=0.2, random_state = 42)"
   ]
  },
  {
   "cell_type": "code",
   "execution_count": 11,
   "id": "1af3fccc",
   "metadata": {
    "execution": {
     "iopub.execute_input": "2022-04-13T07:05:07.218049Z",
     "iopub.status.busy": "2022-04-13T07:05:07.217222Z",
     "iopub.status.idle": "2022-04-13T07:05:08.110408Z",
     "shell.execute_reply": "2022-04-13T07:05:08.111061Z",
     "shell.execute_reply.started": "2022-03-21T13:15:25.539324Z"
    },
    "papermill": {
     "duration": 0.956257,
     "end_time": "2022-04-13T07:05:08.111222",
     "exception": false,
     "start_time": "2022-04-13T07:05:07.154965",
     "status": "completed"
    },
    "tags": []
   },
   "outputs": [
    {
     "data": {
      "text/plain": [
       "((15921, 6), (3981, 6))"
      ]
     },
     "execution_count": 11,
     "metadata": {},
     "output_type": "execute_result"
    }
   ],
   "source": [
    "train_df.shape, valid_df.shape"
   ]
  },
  {
   "cell_type": "code",
   "execution_count": 12,
   "id": "4befc889",
   "metadata": {
    "execution": {
     "iopub.execute_input": "2022-04-13T07:05:08.221256Z",
     "iopub.status.busy": "2022-04-13T07:05:08.220308Z",
     "iopub.status.idle": "2022-04-13T07:05:09.695427Z",
     "shell.execute_reply": "2022-04-13T07:05:09.694884Z",
     "shell.execute_reply.started": "2022-03-21T13:15:25.548934Z"
    },
    "papermill": {
     "duration": 1.527283,
     "end_time": "2022-04-13T07:05:09.695552",
     "exception": false,
     "start_time": "2022-04-13T07:05:08.168269",
     "status": "completed"
    },
    "tags": []
   },
   "outputs": [
    {
     "data": {
      "text/plain": [
       "<matplotlib.image.AxesImage at 0x7f96e39c6d90>"
      ]
     },
     "execution_count": 12,
     "metadata": {},
     "output_type": "execute_result"
    },
    {
     "data": {
      "image/png": "[encoded data removed]",
      "text/plain": [
       "<Figure size 432x288 with 1 Axes>"
      ]
     },
     "metadata": {
      "needs_background": "light"
     },
     "output_type": "display_data"
    }
   ],
   "source": [
    "demo = plt.imread(\"../input/pogchamp2spectogram/kaggle/spectograms/train/000304.jpg\")\n",
    "# print(demo)\n",
    "plt.imshow(demo)"
   ]
  },
  {
   "cell_type": "code",
   "execution_count": 13,
   "id": "8d2de7ac",
   "metadata": {
    "execution": {
     "iopub.execute_input": "2022-04-13T07:05:09.814962Z",
     "iopub.status.busy": "2022-04-13T07:05:09.814104Z",
     "iopub.status.idle": "2022-04-13T07:05:10.526694Z",
     "shell.execute_reply": "2022-04-13T07:05:10.526219Z",
     "shell.execute_reply.started": "2022-03-21T13:15:26.280377Z"
    },
    "papermill": {
     "duration": 0.770921,
     "end_time": "2022-04-13T07:05:10.526833",
     "exception": false,
     "start_time": "2022-04-13T07:05:09.755912",
     "status": "completed"
    },
    "tags": []
   },
   "outputs": [],
   "source": [
    "# class POGdata(Dataset):\n",
    "#     def __init__(self, df, transforms=None):\n",
    "#         super().__init__()\n",
    "#         self.df = df\n",
    "#         self.transforms = transforms\n",
    "\n",
    "#     def __getitem__(self, index):\n",
    "#         path = self.df[\"spec_path\"].iloc[index]\n",
    "#         image = plt.imread(path)\n",
    "\n",
    "#         target = self.df[\"genre_id\"].iloc[index]\n",
    "        \n",
    "#         if self.transforms:\n",
    "#             image = self.transforms(image=image)['image']\n",
    "            \n",
    "#         return image.float(), torch.tensor(target, dtype=torch.long)\n",
    "\n",
    "#     def __len__(self):\n",
    "#         return len(self.df)"
   ]
  },
  {
   "cell_type": "code",
   "execution_count": 14,
   "id": "cbf03532",
   "metadata": {
    "execution": {
     "iopub.execute_input": "2022-04-13T07:05:10.654651Z",
     "iopub.status.busy": "2022-04-13T07:05:10.654086Z",
     "iopub.status.idle": "2022-04-13T07:05:11.324621Z",
     "shell.execute_reply": "2022-04-13T07:05:11.324133Z",
     "shell.execute_reply.started": "2022-03-21T13:15:26.288404Z"
    },
    "papermill": {
     "duration": 0.744811,
     "end_time": "2022-04-13T07:05:11.324753",
     "exception": false,
     "start_time": "2022-04-13T07:05:10.579942",
     "status": "completed"
    },
    "tags": []
   },
   "outputs": [],
   "source": [
    "import torchaudio\n",
    "\n",
    "class POGdata(Dataset):\n",
    "    \n",
    "    def __init__(self,\n",
    "                 df,\n",
    "                 data_dir,\n",
    "                 transform = None):\n",
    "        super(POGdata, self).__init__()\n",
    "        self.data_dir = data_dir\n",
    "        self.df = df\n",
    "        self.transform = transform\n",
    "        \n",
    "    def __len__(self):\n",
    "        return len(self.df)\n",
    "    \n",
    "    def __getitem__(self, index):\n",
    "\n",
    "        path = self.df[\"filename\"].iloc[index]\n",
    "        path = os.path.join(self.data_dir, path)\n",
    "\n",
    "        label = self.df[\"genre_id\"].iloc[index]\n",
    "        mono_audio = self.load_audio(path)\n",
    "        mono_audio = mono_audio.unsqueeze(dim=0)\n",
    "        return mono_audio, label\n",
    "    \n",
    "    \n",
    "    def load_audio(self, path):\n",
    "        audio, _ = torchaudio.load(path)\n",
    "        if self.transform != None:\n",
    "            for aug in self.transform:\n",
    "                audio = aug(audio)\n",
    "        return audio[0,:]"
   ]
  },
  {
   "cell_type": "code",
   "execution_count": 15,
   "id": "7797e5da",
   "metadata": {
    "execution": {
     "iopub.execute_input": "2022-04-13T07:05:11.441468Z",
     "iopub.status.busy": "2022-04-13T07:05:11.440545Z",
     "iopub.status.idle": "2022-04-13T07:05:12.225715Z",
     "shell.execute_reply": "2022-04-13T07:05:12.224813Z",
     "shell.execute_reply.started": "2022-03-21T13:15:26.304506Z"
    },
    "papermill": {
     "duration": 0.845828,
     "end_time": "2022-04-13T07:05:12.225860",
     "exception": false,
     "start_time": "2022-04-13T07:05:11.380032",
     "status": "completed"
    },
    "tags": []
   },
   "outputs": [
    {
     "name": "stderr",
     "output_type": "stream",
     "text": [
      "/opt/conda/lib/python3.7/site-packages/torchaudio/functional/functional.py:433: UserWarning: At least one mel filterbank has all zero values. The value for `n_mels` (256) may be set too high. Or, the value for `n_freqs` (513) may be set too low.\n",
      "  \"At least one mel filterbank has all zero values. \"\n"
     ]
    },
    {
     "data": {
      "text/plain": [
       "[MelSpectrogram(\n",
       "   (spectrogram): Spectrogram()\n",
       "   (mel_scale): MelScale()\n",
       " ),\n",
       " AmplitudeToDB(),\n",
       " Resize(size=(256, 256), interpolation=bilinear, max_size=None, antialias=None)]"
      ]
     },
     "execution_count": 15,
     "metadata": {},
     "output_type": "execute_result"
    }
   ],
   "source": [
    "SAMPLE_RATE = 22050\n",
    "NUM_SAMPLES = 22050\n",
    "N_FFT = 2048\n",
    "HOP_LEN = 512\n",
    "\n",
    "augm = [\n",
    "    MelSpectrogram(sample_rate=SAMPLE_RATE,\n",
    "                    n_fft=1024,\n",
    "                    hop_length=512,\n",
    "                    n_mels=256),\n",
    "    AmplitudeToDB(),\n",
    "    Resize((256, 256))\n",
    "]\n",
    "augm"
   ]
  },
  {
   "cell_type": "code",
   "execution_count": 16,
   "id": "7046c077",
   "metadata": {
    "execution": {
     "iopub.execute_input": "2022-04-13T07:05:12.348921Z",
     "iopub.status.busy": "2022-04-13T07:05:12.348053Z",
     "iopub.status.idle": "2022-04-13T07:05:13.043561Z",
     "shell.execute_reply": "2022-04-13T07:05:13.042608Z",
     "shell.execute_reply.started": "2022-03-21T13:15:26.408194Z"
    },
    "papermill": {
     "duration": 0.757083,
     "end_time": "2022-04-13T07:05:13.043709",
     "exception": false,
     "start_time": "2022-04-13T07:05:12.286626",
     "status": "completed"
    },
    "tags": []
   },
   "outputs": [],
   "source": [
    "# metadata_path = \"./training_metadata.csv\"\n",
    "dataset = POGdata(train_df, \"../input/kaggle-pog-series-s01e02/train\", transform = augm)"
   ]
  },
  {
   "cell_type": "code",
   "execution_count": 17,
   "id": "4007e251",
   "metadata": {
    "execution": {
     "iopub.execute_input": "2022-04-13T07:05:13.168851Z",
     "iopub.status.busy": "2022-04-13T07:05:13.168026Z",
     "iopub.status.idle": "2022-04-13T07:05:14.195916Z",
     "shell.execute_reply": "2022-04-13T07:05:14.196664Z",
     "shell.execute_reply.started": "2022-03-21T13:15:26.416204Z"
    },
    "papermill": {
     "duration": 1.086897,
     "end_time": "2022-04-13T07:05:14.196834",
     "exception": false,
     "start_time": "2022-04-13T07:05:13.109937",
     "status": "completed"
    },
    "tags": []
   },
   "outputs": [
    {
     "name": "stdout",
     "output_type": "stream",
     "text": [
      "Audio Shape : torch.Size([1, 256, 256]) , label : 0\n"
     ]
    }
   ],
   "source": [
    "data, label = dataset[10]\n",
    "print(\"Audio Shape : {} , label : {}\".format(data.shape, label))"
   ]
  },
  {
   "cell_type": "code",
   "execution_count": 18,
   "id": "08113ae1",
   "metadata": {
    "execution": {
     "iopub.execute_input": "2022-04-13T07:05:14.325766Z",
     "iopub.status.busy": "2022-04-13T07:05:14.324895Z",
     "iopub.status.idle": "2022-04-13T07:05:16.951607Z",
     "shell.execute_reply": "2022-04-13T07:05:16.951111Z",
     "shell.execute_reply.started": "2022-03-21T13:15:26.698002Z"
    },
    "papermill": {
     "duration": 2.699029,
     "end_time": "2022-04-13T07:05:16.951739",
     "exception": false,
     "start_time": "2022-04-13T07:05:14.252710",
     "status": "completed"
    },
    "tags": []
   },
   "outputs": [
    {
     "data": {
      "text/plain": [
       "<matplotlib.image.AxesImage at 0x7f96e3c0b910>"
      ]
     },
     "execution_count": 18,
     "metadata": {},
     "output_type": "execute_result"
    },
    {
     "data": {
      "image/png": "[encoded data removed]",
      "text/plain": [
       "<Figure size 432x288 with 1 Axes>"
      ]
     },
     "metadata": {
      "needs_background": "light"
     },
     "output_type": "display_data"
    }
   ],
   "source": [
    "plt.imshow(data.permute(1,2,0).numpy())"
   ]
  },
  {
   "cell_type": "code",
   "execution_count": 19,
   "id": "3533b390",
   "metadata": {
    "execution": {
     "iopub.execute_input": "2022-04-13T07:05:17.080115Z",
     "iopub.status.busy": "2022-04-13T07:05:17.079283Z",
     "iopub.status.idle": "2022-04-13T07:05:17.833535Z",
     "shell.execute_reply": "2022-04-13T07:05:17.833054Z",
     "shell.execute_reply.started": "2022-03-21T13:15:26.927926Z"
    },
    "papermill": {
     "duration": 0.824713,
     "end_time": "2022-04-13T07:05:17.833662",
     "exception": false,
     "start_time": "2022-04-13T07:05:17.008949",
     "status": "completed"
    },
    "tags": []
   },
   "outputs": [],
   "source": [
    "train_ds = POGdata(train_df, \"../input/kaggle-pog-series-s01e02/train\", transform = augm)\n",
    "valid_ds = POGdata(valid_df, \"../input/kaggle-pog-series-s01e02/train\", transform = augm)\n",
    "\n",
    "train_dl = DataLoader(train_ds, batch_size=cfg[\"batch_size\"], shuffle=False,pin_memory = True, num_workers  = 2)\n",
    "valid_dl = DataLoader(valid_ds, batch_size=cfg[\"batch_size\"], shuffle=False,pin_memory = True, num_workers  = 2)"
   ]
  },
  {
   "cell_type": "code",
   "execution_count": 20,
   "id": "7cca0a18",
   "metadata": {
    "execution": {
     "iopub.execute_input": "2022-04-13T07:05:17.955430Z",
     "iopub.status.busy": "2022-04-13T07:05:17.954617Z",
     "iopub.status.idle": "2022-04-13T07:05:18.668561Z",
     "shell.execute_reply": "2022-04-13T07:05:18.669319Z",
     "shell.execute_reply.started": "2022-03-21T13:15:26.938319Z"
    },
    "papermill": {
     "duration": 0.77702,
     "end_time": "2022-04-13T07:05:18.669562",
     "exception": false,
     "start_time": "2022-04-13T07:05:17.892542",
     "status": "completed"
    },
    "tags": []
   },
   "outputs": [
    {
     "data": {
      "text/plain": [
       "'\\npin_memory = False  ---|___> 32 min/epoch\\nnum_workers = 4     ---|   \\n\\npin_memory = True  ---|___> 27 min/epoch\\nnum_workers = 2     ---|   \\n\\npin_memory = False  ---|___> 26 min/epoch\\nnum_workers = 2     ---|   \\n'"
      ]
     },
     "execution_count": 20,
     "metadata": {},
     "output_type": "execute_result"
    }
   ],
   "source": [
    "\"\"\"\n",
    "pin_memory = False  ---|___> 32 min/epoch\n",
    "num_workers = 4     ---|   \n",
    "\n",
    "pin_memory = True  ---|___> 27 min/epoch\n",
    "num_workers = 2     ---|   \n",
    "\n",
    "pin_memory = False  ---|___> 26 min/epoch\n",
    "num_workers = 2     ---|   \n",
    "\"\"\""
   ]
  },
  {
   "cell_type": "code",
   "execution_count": 21,
   "id": "a78be496",
   "metadata": {
    "execution": {
     "iopub.execute_input": "2022-04-13T07:05:18.915413Z",
     "iopub.status.busy": "2022-04-13T07:05:18.910553Z",
     "iopub.status.idle": "2022-04-13T07:05:19.590005Z",
     "shell.execute_reply": "2022-04-13T07:05:19.589499Z",
     "shell.execute_reply.started": "2022-03-21T13:15:26.95429Z"
    },
    "papermill": {
     "duration": 0.786226,
     "end_time": "2022-04-13T07:05:19.590142",
     "exception": false,
     "start_time": "2022-04-13T07:05:18.803916",
     "status": "completed"
    },
    "tags": []
   },
   "outputs": [],
   "source": [
    "# transform_train = A.Compose([\n",
    "#                   A.Resize(256, 256, p=1),                \n",
    "#                   ToTensorV2(),\n",
    "# ])\n",
    "# transform_valid = A.Compose([\n",
    "#                   A.Resize(256, 256, p=1),\n",
    "#                   ToTensorV2(),\n",
    "# ])\n",
    "\n",
    "\n",
    "# train_data = POGdata(train_df,transform_train)\n",
    "# img, trg = train_data[20]\n",
    "# print(img.shape)\n",
    "# plt.imshow(img.permute(1,2,0).numpy())"
   ]
  },
  {
   "cell_type": "code",
   "execution_count": 22,
   "id": "652902b4",
   "metadata": {
    "execution": {
     "iopub.execute_input": "2022-04-13T07:05:19.712275Z",
     "iopub.status.busy": "2022-04-13T07:05:19.711462Z",
     "iopub.status.idle": "2022-04-13T07:05:20.407425Z",
     "shell.execute_reply": "2022-04-13T07:05:20.406917Z",
     "shell.execute_reply.started": "2022-03-21T13:15:26.961778Z"
    },
    "papermill": {
     "duration": 0.757037,
     "end_time": "2022-04-13T07:05:20.407560",
     "exception": false,
     "start_time": "2022-04-13T07:05:19.650523",
     "status": "completed"
    },
    "tags": []
   },
   "outputs": [],
   "source": [
    "# img.max()"
   ]
  },
  {
   "cell_type": "code",
   "execution_count": 23,
   "id": "82ca5916",
   "metadata": {
    "execution": {
     "iopub.execute_input": "2022-04-13T07:05:20.531279Z",
     "iopub.status.busy": "2022-04-13T07:05:20.528348Z",
     "iopub.status.idle": "2022-04-13T07:05:21.355982Z",
     "shell.execute_reply": "2022-04-13T07:05:21.355459Z",
     "shell.execute_reply.started": "2022-03-21T13:15:26.970926Z"
    },
    "papermill": {
     "duration": 0.88877,
     "end_time": "2022-04-13T07:05:21.356131",
     "exception": false,
     "start_time": "2022-04-13T07:05:20.467361",
     "status": "completed"
    },
    "tags": []
   },
   "outputs": [],
   "source": [
    "# train_ds = POGdata(train_df,transform_train)\n",
    "# valid_ds = POGdata(valid_df,transform_valid)\n",
    "\n",
    "# train_dl = DataLoader(train_ds, batch_size=cfg[\"batch_size\"], shuffle=False,pin_memory=True,num_workers  = 4)\n",
    "# valid_dl = DataLoader(valid_ds, batch_size=cfg[\"batch_size\"], shuffle=False,pin_memory=True,num_workers  = 4)"
   ]
  },
  {
   "cell_type": "markdown",
   "id": "ad571ceb",
   "metadata": {
    "papermill": {
     "duration": 0.059657,
     "end_time": "2022-04-13T07:05:21.474715",
     "exception": false,
     "start_time": "2022-04-13T07:05:21.415058",
     "status": "completed"
    },
    "tags": []
   },
   "source": [
    "# Define Model"
   ]
  },
  {
   "cell_type": "code",
   "execution_count": 24,
   "id": "7a5bc118",
   "metadata": {
    "execution": {
     "iopub.execute_input": "2022-04-13T07:05:21.604715Z",
     "iopub.status.busy": "2022-04-13T07:05:21.604158Z",
     "iopub.status.idle": "2022-04-13T07:05:22.565131Z",
     "shell.execute_reply": "2022-04-13T07:05:22.565573Z",
     "shell.execute_reply.started": "2022-03-21T13:15:26.978954Z"
    },
    "papermill": {
     "duration": 1.034473,
     "end_time": "2022-04-13T07:05:22.565738",
     "exception": false,
     "start_time": "2022-04-13T07:05:21.531265",
     "status": "completed"
    },
    "tags": []
   },
   "outputs": [],
   "source": [
    "# use timm model no pretrained\n",
    "class BaseModel(nn.Module):\n",
    "    def __init__(self, model_name=\"resnet50\", n_class=19, pretrained=False):\n",
    "        super().__init__()\n",
    "        \n",
    "        self.model = timm.create_model(model_name, in_chans=1, pretrained=pretrained, num_classes = 19)\n",
    "        n_features = self.model.fc.in_features\n",
    "        self.model.classifier = nn.Linear(n_features, n_class) \n",
    "    def forward(self, x):\n",
    "        output = self.model(x)\n",
    "        return output"
   ]
  },
  {
   "cell_type": "code",
   "execution_count": 25,
   "id": "d56688f2",
   "metadata": {
    "execution": {
     "iopub.execute_input": "2022-04-13T07:05:22.735755Z",
     "iopub.status.busy": "2022-04-13T07:05:22.734945Z",
     "iopub.status.idle": "2022-04-13T07:05:23.479348Z",
     "shell.execute_reply": "2022-04-13T07:05:23.478545Z",
     "shell.execute_reply.started": "2022-03-21T13:15:26.990274Z"
    },
    "papermill": {
     "duration": 0.847885,
     "end_time": "2022-04-13T07:05:23.479478",
     "exception": false,
     "start_time": "2022-04-13T07:05:22.631593",
     "status": "completed"
    },
    "tags": []
   },
   "outputs": [],
   "source": [
    "\n",
    "# # Define Model [Here CNN]\n",
    "# class CNN(nn.Module):\n",
    "#     def __init__(self, in_channels=1, num_classes=10):\n",
    "#         super(CNN, self).__init__()\n",
    "#         self.conv1 = nn.Conv2d(        # i/p size = 1x28x28, o/p size = 8x28x28 [coz = [(28+2*1-3)/1] + 1 = 28] Formula: https://i.imgur.com/Nh2cRt9.png\n",
    "#             in_channels=in_channels,   # this is the num of channel present in the single image, for RGB=3, gray scale= 1\n",
    "#             out_channels=8,            # you can mention any output channel, eg: 8, 16, 70 etc ...\n",
    "#             kernel_size=(3, 3),\n",
    "#             stride=(1, 1),\n",
    "#             padding=(1, 1),\n",
    "#         )\n",
    "#         self.pool = nn.MaxPool2d(kernel_size=(2, 2), stride=(2, 2))  # i/p size = 8x28x28, o/p size = 8x14x14 [coz = [(28+2*0-2)/2] + 1 = 14]\n",
    "#         self.conv2 = nn.Conv2d(                                      \n",
    "#             in_channels=8,                                           # i/p size = 8x14x14, o/p size = 16x14x14 [coz = [(14+2*1-3)/1] + 1 = 14]\n",
    "#             out_channels=16,\n",
    "#             kernel_size=(3, 3),\n",
    "#             stride=(1, 1),\n",
    "#             padding=(1, 1),\n",
    "#         )\n",
    "#         self.fc1 = nn.Linear( 65536, num_classes)     # i/p size = 16x7x7 [coz we will apply self.pool two time, after self.conv2] , \n",
    "#                                                           # o/p size = 10 \n",
    "\n",
    "#     def forward(self, x):\n",
    "#         x = F.relu(self.conv1(x))                    # we are applying relu here\n",
    "#         x = self.pool(x)\n",
    "#         x = F.relu(self.conv2(x))\n",
    "#         x = self.pool(x)\n",
    "#         x = x.reshape(x.shape[0], -1)                # before passing the data to the linear layer we need to flatten the data \n",
    "#                                                      # x.shape[0] will secure the batch size and -1 used for flattening rest of the \n",
    "#         x = self.fc1(x)\n",
    "#         return x\n"
   ]
  },
  {
   "cell_type": "markdown",
   "id": "e38de8c4",
   "metadata": {
    "papermill": {
     "duration": 0.059274,
     "end_time": "2022-04-13T07:05:23.595649",
     "exception": false,
     "start_time": "2022-04-13T07:05:23.536375",
     "status": "completed"
    },
    "tags": []
   },
   "source": [
    "# Sanity check on model\n",
    "\n",
    "- Sanity check w/ forward pass to check GPU utilization.\n",
    "\n",
    "<br>\n",
    "<img width = \"500\" src=\"https://i.imgur.com/j9nNG4m.jpg\">"
   ]
  },
  {
   "cell_type": "code",
   "execution_count": 26,
   "id": "54f5f666",
   "metadata": {
    "execution": {
     "iopub.execute_input": "2022-04-13T07:05:23.718898Z",
     "iopub.status.busy": "2022-04-13T07:05:23.717748Z",
     "iopub.status.idle": "2022-04-13T07:05:45.474305Z",
     "shell.execute_reply": "2022-04-13T07:05:45.473688Z",
     "shell.execute_reply.started": "2022-03-21T13:15:27.00597Z"
    },
    "papermill": {
     "duration": 21.822349,
     "end_time": "2022-04-13T07:05:45.474459",
     "exception": false,
     "start_time": "2022-04-13T07:05:23.652110",
     "status": "completed"
    },
    "tags": []
   },
   "outputs": [
    {
     "name": "stdout",
     "output_type": "stream",
     "text": [
      "torch.Size([64, 19])\n"
     ]
    }
   ],
   "source": [
    "# Sanity check on model\n",
    "Model = BaseModel()\n",
    "print(Model(torch.randn(64,1,256,256)).shape) # O/p -> (64,19) 64=batch size, 19= num of class"
   ]
  },
  {
   "cell_type": "markdown",
   "id": "866414a6",
   "metadata": {
    "papermill": {
     "duration": 0.068233,
     "end_time": "2022-04-13T07:05:45.620086",
     "exception": false,
     "start_time": "2022-04-13T07:05:45.551853",
     "status": "completed"
    },
    "tags": []
   },
   "source": [
    "# Initialize Model"
   ]
  },
  {
   "cell_type": "code",
   "execution_count": 27,
   "id": "37008333",
   "metadata": {
    "execution": {
     "iopub.execute_input": "2022-04-13T07:05:45.752682Z",
     "iopub.status.busy": "2022-04-13T07:05:45.751852Z",
     "iopub.status.idle": "2022-04-13T07:05:49.762479Z",
     "shell.execute_reply": "2022-04-13T07:05:49.761534Z",
     "shell.execute_reply.started": "2022-03-21T13:15:47.403685Z"
    },
    "papermill": {
     "duration": 4.082765,
     "end_time": "2022-04-13T07:05:49.762616",
     "exception": false,
     "start_time": "2022-04-13T07:05:45.679851",
     "status": "completed"
    },
    "tags": []
   },
   "outputs": [],
   "source": [
    "# Initialize network\n",
    "model = BaseModel().to(device)"
   ]
  },
  {
   "cell_type": "markdown",
   "id": "3181a64d",
   "metadata": {
    "papermill": {
     "duration": 0.072966,
     "end_time": "2022-04-13T07:05:49.899666",
     "exception": false,
     "start_time": "2022-04-13T07:05:49.826700",
     "status": "completed"
    },
    "tags": []
   },
   "source": [
    "# Define Loss and optimizer"
   ]
  },
  {
   "cell_type": "code",
   "execution_count": 28,
   "id": "e4aacde1",
   "metadata": {
    "execution": {
     "iopub.execute_input": "2022-04-13T07:05:50.036428Z",
     "iopub.status.busy": "2022-04-13T07:05:50.035637Z",
     "iopub.status.idle": "2022-04-13T07:05:50.858521Z",
     "shell.execute_reply": "2022-04-13T07:05:50.857786Z",
     "shell.execute_reply.started": "2022-03-21T13:15:50.658246Z"
    },
    "papermill": {
     "duration": 0.89345,
     "end_time": "2022-04-13T07:05:50.858666",
     "exception": false,
     "start_time": "2022-04-13T07:05:49.965216",
     "status": "completed"
    },
    "tags": []
   },
   "outputs": [],
   "source": [
    "# Loss and optimizer\n",
    "criterion = nn.CrossEntropyLoss()   # reminder: every loss accepts different predictin and target shape, eg: BCEw/logits uses different shapes for them\n",
    "optimizer = optim.Adam(model.parameters(), lr=cfg[\"learning_rate\"])"
   ]
  },
  {
   "cell_type": "code",
   "execution_count": 29,
   "id": "7af84e8c",
   "metadata": {
    "execution": {
     "iopub.execute_input": "2022-04-13T07:05:50.998681Z",
     "iopub.status.busy": "2022-04-13T07:05:50.997757Z",
     "iopub.status.idle": "2022-04-13T07:05:51.743499Z",
     "shell.execute_reply": "2022-04-13T07:05:51.744145Z",
     "shell.execute_reply.started": "2022-03-21T13:15:50.667385Z"
    },
    "papermill": {
     "duration": 0.820188,
     "end_time": "2022-04-13T07:05:51.744368",
     "exception": false,
     "start_time": "2022-04-13T07:05:50.924180",
     "status": "completed"
    },
    "tags": []
   },
   "outputs": [],
   "source": [
    "def save_model(epoch, model, model_file):\n",
    "    \"\"\"\n",
    "    Function to save the trained model till current epoch, or whenver called\n",
    "    \"\"\"\n",
    "    torch.save({\n",
    "                'epoch': epoch+1,\n",
    "                'model_state_dict': model.state_dict(),\n",
    "                'optimizer_state_dict': optimizer.state_dict(),\n",
    "                }, model_file)"
   ]
  },
  {
   "cell_type": "markdown",
   "id": "2c010df4",
   "metadata": {
    "papermill": {
     "duration": 0.105234,
     "end_time": "2022-04-13T07:05:51.963243",
     "exception": false,
     "start_time": "2022-04-13T07:05:51.858009",
     "status": "completed"
    },
    "tags": []
   },
   "source": [
    "# Training loop [training and validaion loop]"
   ]
  },
  {
   "cell_type": "code",
   "execution_count": 30,
   "id": "50cdb1fa",
   "metadata": {
    "execution": {
     "iopub.execute_input": "2022-04-13T07:05:52.173250Z",
     "iopub.status.busy": "2022-04-13T07:05:52.172224Z",
     "iopub.status.idle": "2022-04-13T07:05:52.879001Z",
     "shell.execute_reply": "2022-04-13T07:05:52.878476Z",
     "shell.execute_reply.started": "2022-03-21T13:15:50.677517Z"
    },
    "papermill": {
     "duration": 0.8133,
     "end_time": "2022-04-13T07:05:52.879145",
     "exception": false,
     "start_time": "2022-04-13T07:05:52.065845",
     "status": "completed"
    },
    "tags": []
   },
   "outputs": [],
   "source": [
    "# # Train Network\n",
    "# total_epoch = cfg[\"num_epochs\"]\n",
    "# for epoch in range(cfg[\"num_epochs\"]):\n",
    "#     print(f\"============ starting epoch [{epoch+1}/{total_epoch}] ============\")\n",
    "#     running_loss = 0.0\n",
    "    \n",
    "    \n",
    "#     for i, (data, targets) in enumerate(tqdm(train_dl)):\n",
    "#         # Get data to cuda if possible\n",
    "#         data = data.to(device=device)\n",
    "#         targets = targets.to(device=device)\n",
    "        \n",
    "#         # forward\n",
    "#         scores = model(data)\n",
    "#         loss = criterion(scores, targets)  # CrossEntropyLoss accepts prediction in the shape of (64,10) and target is 64 [not sure]\n",
    "\n",
    "#         # backward\n",
    "#         optimizer.zero_grad()\n",
    "#         loss.backward()\n",
    "\n",
    "#         # gradient descent or adam step\n",
    "#         optimizer.step()\n",
    "        \n",
    "#         running_loss += loss.item()\n",
    "\n",
    "#         if i % 4 == 0:    # print every 4 mini-batches\n",
    "# #             print('[%d, %5d] loss: %.3f' % (epoch + 1, i + 1, running_loss / 2000))\n",
    "#             wandb.log({'epoch': epoch+1, 'loss': running_loss/2000})\n",
    "#             running_loss = 0.0\n",
    "        \n",
    "#     print(f\"total loss {running_loss}\")\n",
    "# #     print('Finished Training')\n",
    "    \n",
    "#     save_model(epoch,model,f\"cnn_adam_e{epoch}.pth\")"
   ]
  },
  {
   "cell_type": "code",
   "execution_count": 31,
   "id": "182a51fd",
   "metadata": {
    "execution": {
     "iopub.execute_input": "2022-04-13T07:05:53.013424Z",
     "iopub.status.busy": "2022-04-13T07:05:53.012557Z",
     "iopub.status.idle": "2022-04-13T07:05:53.573589Z",
     "shell.execute_reply": "2022-04-13T07:05:53.572579Z",
     "shell.execute_reply.started": "2022-03-21T13:15:50.689376Z"
    },
    "papermill": {
     "duration": 0.627335,
     "end_time": "2022-04-13T07:05:53.573745",
     "exception": false,
     "start_time": "2022-04-13T07:05:52.946410",
     "status": "completed"
    },
    "tags": []
   },
   "outputs": [],
   "source": [
    "# iyyiiv sdgsdg fdgdf fghgh badass"
   ]
  },
  {
   "cell_type": "code",
   "execution_count": 32,
   "id": "67d3faef",
   "metadata": {
    "execution": {
     "iopub.execute_input": "2022-04-13T07:05:53.721741Z",
     "iopub.status.busy": "2022-04-13T07:05:53.721199Z",
     "iopub.status.idle": "2022-04-13T07:05:54.424797Z",
     "shell.execute_reply": "2022-04-13T07:05:54.425314Z",
     "shell.execute_reply.started": "2022-03-21T13:15:50.698011Z"
    },
    "papermill": {
     "duration": 0.791306,
     "end_time": "2022-04-13T07:05:54.425468",
     "exception": false,
     "start_time": "2022-04-13T07:05:53.634162",
     "status": "completed"
    },
    "tags": []
   },
   "outputs": [],
   "source": [
    "# https://www.kaggle.com/code/debarshichanda/pytorch-w-b-birdclef-22-starter\n",
    "def train_one_epoch(model, optimizer, scheduler, dataloader, device, epoch):\n",
    "    model.train()\n",
    "    \n",
    "    dataset_size = 0\n",
    "    running_loss = 0.0\n",
    "    \n",
    "    bar = tqdm(enumerate(dataloader), total=len(dataloader))\n",
    "    for step, (data, targets) in bar:\n",
    "        data = data.to(device=device)\n",
    "        targets = targets.to(device=device)\n",
    "        \n",
    "        batch_size = data.size(0)\n",
    "        \n",
    "        outputs = model(data)\n",
    "        loss = criterion(outputs, targets)\n",
    "        loss = loss / cfg['n_accumulate']\n",
    "            \n",
    "        loss.backward()\n",
    "    \n",
    "        if (step + 1) % cfg['n_accumulate'] == 0:\n",
    "            optimizer.step()\n",
    "\n",
    "            # zero the parameter gradients\n",
    "            optimizer.zero_grad()\n",
    "\n",
    "            if scheduler is not None:\n",
    "                scheduler.step()\n",
    "                \n",
    "#         running_loss += (loss.item() * batch_size)\n",
    "        running_loss += loss.item()\n",
    "#         epoch_loss = running_loss / dataset_size\n",
    "        dataset_size += batch_size\n",
    "        \n",
    "        epoch_loss = running_loss / len(dataloader)\n",
    "        \n",
    "        bar.set_postfix(Epoch=epoch, Train_Loss=epoch_loss,\n",
    "                        LR=optimizer.param_groups[0]['lr'])\n",
    "    gc.collect()\n",
    "    \n",
    "    return epoch_loss"
   ]
  },
  {
   "cell_type": "code",
   "execution_count": 33,
   "id": "ef1c228e",
   "metadata": {
    "execution": {
     "iopub.execute_input": "2022-04-13T07:05:54.574303Z",
     "iopub.status.busy": "2022-04-13T07:05:54.573399Z",
     "iopub.status.idle": "2022-04-13T07:05:55.369877Z",
     "shell.execute_reply": "2022-04-13T07:05:55.370382Z",
     "shell.execute_reply.started": "2022-03-21T13:15:50.715844Z"
    },
    "papermill": {
     "duration": 0.883335,
     "end_time": "2022-04-13T07:05:55.370532",
     "exception": false,
     "start_time": "2022-04-13T07:05:54.487197",
     "status": "completed"
    },
    "tags": []
   },
   "outputs": [],
   "source": [
    "@torch.inference_mode()\n",
    "def valid_one_epoch(model, dataloader, device, epoch):\n",
    "    model.eval()\n",
    "    \n",
    "    dataset_size = 0\n",
    "    running_loss = 0.0\n",
    "    \n",
    "    LABELS = []\n",
    "    PREDS = []\n",
    "    \n",
    "    bar = tqdm(enumerate(dataloader), total=len(dataloader))\n",
    "    for step, (data, targets) in bar:\n",
    "        data = data.to(device=device)\n",
    "        targets = targets.to(device=device)\n",
    "        \n",
    "        batch_size = data.size(0)\n",
    "\n",
    "        outputs = model(data)\n",
    "        _, preds = torch.max(outputs, 1)\n",
    "        loss = criterion(outputs, targets)\n",
    "        \n",
    "        running_loss += (loss.item() * batch_size)\n",
    "        dataset_size += batch_size\n",
    "        \n",
    "        epoch_loss = running_loss / dataset_size\n",
    "        \n",
    "        PREDS.append(preds.view(-1).cpu().detach().numpy())\n",
    "        LABELS.append(targets.view(-1).cpu().detach().numpy())\n",
    "        \n",
    "        bar.set_postfix(Epoch=epoch, Valid_Loss=epoch_loss,\n",
    "                        LR=optimizer.param_groups[0]['lr'])   \n",
    "    \n",
    "    LABELS = np.concatenate(LABELS)\n",
    "    PREDS = np.concatenate(PREDS)\n",
    "    val_f1 = f1_score(LABELS, PREDS, average='macro')\n",
    "    gc.collect()\n",
    "    \n",
    "    return epoch_loss, val_f1"
   ]
  },
  {
   "cell_type": "code",
   "execution_count": 34,
   "id": "6391c8f3",
   "metadata": {
    "execution": {
     "iopub.execute_input": "2022-04-13T07:05:55.508414Z",
     "iopub.status.busy": "2022-04-13T07:05:55.507553Z",
     "iopub.status.idle": "2022-04-13T07:05:56.208846Z",
     "shell.execute_reply": "2022-04-13T07:05:56.208375Z",
     "shell.execute_reply.started": "2022-03-21T13:15:50.733281Z"
    },
    "papermill": {
     "duration": 0.777593,
     "end_time": "2022-04-13T07:05:56.209017",
     "exception": false,
     "start_time": "2022-04-13T07:05:55.431424",
     "status": "completed"
    },
    "tags": []
   },
   "outputs": [],
   "source": [
    "# https://www.kaggle.com/code/debarshichanda/pytorch-w-b-birdclef-22-starter\n",
    "def run_training(model, train_loader, valid_loader, optimizer, device, num_epochs, scheduler=None):\n",
    "    # To automatically log gradients\n",
    "    wandb.watch(model, log_freq=100)\n",
    "    \n",
    "    if torch.cuda.is_available():\n",
    "        print(\"[INFO] Using GPU: {}\\n\".format(torch.cuda.get_device_name()))\n",
    "    \n",
    "    start = time.time()\n",
    "    best_model_wts = copy.deepcopy(model.state_dict())\n",
    "    best_epoch_f1 = 0\n",
    "    history = defaultdict(list)\n",
    "    \n",
    "    for epoch in range(1, num_epochs + 1): \n",
    "        gc.collect()\n",
    "        train_epoch_loss = train_one_epoch(model, optimizer, scheduler, \n",
    "                                           dataloader=train_loader, \n",
    "                                           device=cfg['device'], epoch=epoch)\n",
    "        \n",
    "        val_epoch_loss, val_epoch_f1 = valid_one_epoch(model, valid_loader, \n",
    "                                                       device=cfg['device'], \n",
    "                                                       epoch=epoch)\n",
    "    \n",
    "        history['Train Loss'].append(train_epoch_loss)\n",
    "        history['Valid Loss'].append(val_epoch_loss)\n",
    "        history['Valid F1'].append(val_epoch_f1)\n",
    "        \n",
    "        # Log the metrics\n",
    "        wandb.log({\"Train Loss\": train_epoch_loss})\n",
    "        wandb.log({\"Valid Loss\": val_epoch_loss})\n",
    "        wandb.log({\"Valid F1\": val_epoch_f1})\n",
    "        \n",
    "        # deep copy the model\n",
    "        if val_epoch_f1 >= best_epoch_f1:\n",
    "            print(f\"{b_}Validation F1 Improved ({best_epoch_f1} ---> {val_epoch_f1})\")\n",
    "            best_epoch_f1 = val_epoch_f1\n",
    "            run.summary[\"Best F1 Score\"] = best_epoch_f1\n",
    "            best_model_wts = copy.deepcopy(model.state_dict())\n",
    "            PATH = \"F1{:.4f}_epoch{:.0f}.bin\".format(best_epoch_f1, epoch)\n",
    "            torch.save(model.state_dict(), PATH)\n",
    "            # Save a model file from the current directory\n",
    "            print(f\"Model Saved{sr_}\")\n",
    "            \n",
    "        print()\n",
    "    \n",
    "    end = time.time()\n",
    "    time_elapsed = end - start\n",
    "    print('Training complete in {:.0f}h {:.0f}m {:.0f}s'.format(\n",
    "        time_elapsed // 3600, (time_elapsed % 3600) // 60, (time_elapsed % 3600) % 60))\n",
    "    print(\"Best F1: {:.4f}\".format(best_epoch_f1))\n",
    "    \n",
    "    # load best model weights\n",
    "    model.load_state_dict(best_model_wts)\n",
    "    \n",
    "    return model, history"
   ]
  },
  {
   "cell_type": "code",
   "execution_count": 35,
   "id": "9e1f2109",
   "metadata": {
    "execution": {
     "iopub.execute_input": "2022-04-13T07:05:56.338506Z",
     "iopub.status.busy": "2022-04-13T07:05:56.337603Z",
     "iopub.status.idle": "2022-04-13T07:06:19.287367Z",
     "shell.execute_reply": "2022-04-13T07:06:19.287746Z",
     "shell.execute_reply.started": "2022-03-21T13:15:50.760767Z"
    },
    "papermill": {
     "duration": 23.018306,
     "end_time": "2022-04-13T07:06:19.287927",
     "exception": false,
     "start_time": "2022-04-13T07:05:56.269621",
     "status": "completed"
    },
    "tags": []
   },
   "outputs": [
    {
     "data": {
      "text/html": [
       "Finishing last run (ID:2klievti) before initializing another..."
      ],
      "text/plain": [
       "<IPython.core.display.HTML object>"
      ]
     },
     "metadata": {},
     "output_type": "display_data"
    },
    {
     "name": "stdout",
     "output_type": "stream",
     "text": [
      "\n"
     ]
    },
    {
     "data": {
      "text/html": [
       "Waiting for W&B process to finish... <strong style=\"color:green\">(success).</strong>"
      ],
      "text/plain": [
       "<IPython.core.display.HTML object>"
      ]
     },
     "metadata": {},
     "output_type": "display_data"
    },
    {
     "data": {
      "application/vnd.jupyter.widget-view+json": {
       "model_id": "88e641c154ff4bfab0b0676f5537b455",
       "version_major": 2,
       "version_minor": 0
      },
      "text/plain": [
       "VBox(children=(Label(value='1.549 MB of 1.549 MB uploaded (0.000 MB deduped)\\r'), FloatProgress(value=1.0, max…"
      ]
     },
     "metadata": {},
     "output_type": "display_data"
    },
    {
     "data": {
      "text/html": [
       "Synced <strong style=\"color:#cdcd00\">resnet50 timm classification</strong>: <a href=\"https://wandb.ai/somusan/pogchamp2/runs/2klievti\" target=\"_blank\">https://wandb.ai/somusan/pogchamp2/runs/2klievti</a><br/>Synced 5 W&B file(s), 0 media file(s), 30 artifact file(s) and 1 other file(s)"
      ],
      "text/plain": [
       "<IPython.core.display.HTML object>"
      ]
     },
     "metadata": {},
     "output_type": "display_data"
    },
    {
     "data": {
      "text/html": [
       "Find logs at: <code>./wandb/run-20220413_070451-2klievti/logs</code>"
      ],
      "text/plain": [
       "<IPython.core.display.HTML object>"
      ]
     },
     "metadata": {},
     "output_type": "display_data"
    },
    {
     "data": {
      "text/html": [
       "Successfully finished last run (ID:2klievti). Initializing new run:<br/>"
      ],
      "text/plain": [
       "<IPython.core.display.HTML object>"
      ]
     },
     "metadata": {},
     "output_type": "display_data"
    },
    {
     "data": {
      "text/html": [
       "wandb version 0.12.14 is available!  To upgrade, please run:\n",
       " $ pip install wandb --upgrade"
      ],
      "text/plain": [
       "<IPython.core.display.HTML object>"
      ]
     },
     "metadata": {},
     "output_type": "display_data"
    },
    {
     "data": {
      "text/html": [
       "Tracking run with wandb version 0.12.11"
      ],
      "text/plain": [
       "<IPython.core.display.HTML object>"
      ]
     },
     "metadata": {},
     "output_type": "display_data"
    },
    {
     "data": {
      "text/html": [
       "Run data is saved locally in <code>/kaggle/working/wandb/run-20220413_070556-2ok62ffb</code>"
      ],
      "text/plain": [
       "<IPython.core.display.HTML object>"
      ]
     },
     "metadata": {},
     "output_type": "display_data"
    },
    {
     "data": {
      "text/html": [
       "Syncing run <strong><a href=\"https://wandb.ai/somusan/pogchamp2/runs/2ok62ffb\" target=\"_blank\">cool-lake-13</a></strong> to <a href=\"https://wandb.ai/somusan/pogchamp2\" target=\"_blank\">Weights & Biases</a> (<a href=\"https://wandb.me/run\" target=\"_blank\">docs</a>)<br/>"
      ],
      "text/plain": [
       "<IPython.core.display.HTML object>"
      ]
     },
     "metadata": {},
     "output_type": "display_data"
    }
   ],
   "source": [
    "run = wandb.init(project=cfg['competition'], \n",
    "                 config=cfg,\n",
    "                 job_type='Train',\n",
    "                 tags=['baseline', cfg['model_name']],\n",
    "                 anonymous='must')"
   ]
  },
  {
   "cell_type": "markdown",
   "id": "47ab7be6",
   "metadata": {
    "papermill": {
     "duration": 0.065374,
     "end_time": "2022-04-13T07:06:19.424832",
     "exception": false,
     "start_time": "2022-04-13T07:06:19.359458",
     "status": "completed"
    },
    "tags": []
   },
   "source": [
    "<!-- # TODOs:\n",
    "- change loss updation loss.item() * batch size to loss.item()\n",
    "- Use bigger model\n",
    "- save raw spec images on disk and then load from there -->"
   ]
  },
  {
   "cell_type": "markdown",
   "id": "3526dd76",
   "metadata": {
    "papermill": {
     "duration": 0.067401,
     "end_time": "2022-04-13T07:06:19.558821",
     "exception": false,
     "start_time": "2022-04-13T07:06:19.491420",
     "status": "completed"
    },
    "tags": []
   },
   "source": [
    "```\n",
    "Pin_memory=False\n",
    "100%|██████████| 498/498 [32:06<00:00,  3.87s/it, Epoch=1, LR=0.0008, Train_Loss=1.96]  \n",
    "100%|██████████| 125/125 [08:31<00:00,  4.09s/it, Epoch=1, LR=0.0008, Valid_Loss=1.88\n",
    "```"
   ]
  },
  {
   "cell_type": "code",
   "execution_count": 36,
   "id": "3ca22fd2",
   "metadata": {
    "execution": {
     "iopub.execute_input": "2022-04-13T07:06:19.712420Z",
     "iopub.status.busy": "2022-04-13T07:06:19.711463Z",
     "iopub.status.idle": "2022-04-13T08:28:03.656893Z",
     "shell.execute_reply": "2022-04-13T08:28:03.657653Z",
     "shell.execute_reply.started": "2022-03-21T13:16:04.438854Z"
    },
    "papermill": {
     "duration": 4904.030036,
     "end_time": "2022-04-13T08:28:03.657827",
     "exception": false,
     "start_time": "2022-04-13T07:06:19.627791",
     "status": "completed"
    },
    "tags": []
   },
   "outputs": [
    {
     "name": "stdout",
     "output_type": "stream",
     "text": [
      "[INFO] Using GPU: Tesla P100-PCIE-16GB\n",
      "\n"
     ]
    },
    {
     "name": "stderr",
     "output_type": "stream",
     "text": [
      " 11%|█         | 56/498 [03:48<30:40,  4.16s/it, Epoch=1, LR=0.0008, Train_Loss=0.253]wandb: Network error (ReadTimeout), entering retry loop.\n",
      "100%|██████████| 498/498 [33:20<00:00,  4.02s/it, Epoch=1, LR=0.0008, Train_Loss=1.98]\n",
      "100%|██████████| 125/125 [08:33<00:00,  4.11s/it, Epoch=1, LR=0.0008, Valid_Loss=1.9]\n"
     ]
    },
    {
     "name": "stdout",
     "output_type": "stream",
     "text": [
      "\u001b[34mValidation F1 Improved (0 ---> 0.2361178186691721)\n",
      "Model Saved\u001b[0m\n",
      "\n"
     ]
    },
    {
     "name": "stderr",
     "output_type": "stream",
     "text": [
      "100%|██████████| 498/498 [31:12<00:00,  3.76s/it, Epoch=2, LR=0.0008, Train_Loss=1.8]\n",
      "100%|██████████| 125/125 [08:35<00:00,  4.12s/it, Epoch=2, LR=0.0008, Valid_Loss=1.96]\n"
     ]
    },
    {
     "name": "stdout",
     "output_type": "stream",
     "text": [
      "\u001b[34mValidation F1 Improved (0.2361178186691721 ---> 0.25154931053318175)\n",
      "Model Saved\u001b[0m\n",
      "\n",
      "Training complete in 1h 21m 44s\n",
      "Best F1: 0.2515\n"
     ]
    }
   ],
   "source": [
    "import copy\n",
    "from collections import defaultdict\n",
    "import gc\n",
    "\n",
    "model, history = run_training(model,train_dl,\n",
    "                              valid_dl, optimizer,\n",
    "                              device=cfg['device'],\n",
    "                              num_epochs=cfg['num_epochs'])"
   ]
  },
  {
   "cell_type": "markdown",
   "id": "07d99097",
   "metadata": {
    "papermill": {
     "duration": 0.845085,
     "end_time": "2022-04-13T08:28:05.354955",
     "exception": false,
     "start_time": "2022-04-13T08:28:04.509870",
     "status": "completed"
    },
    "tags": []
   },
   "source": [
    "# validation"
   ]
  },
  {
   "cell_type": "markdown",
   "id": "587e7d72",
   "metadata": {
    "papermill": {
     "duration": 0.836647,
     "end_time": "2022-04-13T08:28:07.028627",
     "exception": false,
     "start_time": "2022-04-13T08:28:06.191980",
     "status": "completed"
    },
    "tags": []
   },
   "source": [
    "<!-- ,　　　\n",
    ".　　　　　　　　　　　　　.　　　ﾟ　 　　　.　　　　　　　　 🌑　　　　　 　　　　　.　　　　　　　　　　　.　　　　　　　　　　 　\n",
    "　˚　　　　　　　　　　　　　　　　　　　　　ﾟ　　　　　.　　　　　　　　　　　　　　　. 　　 　 🌎 ‍ ‍ ‍ ‍ ‍ ‍ ‍ ‍ ‍ ‍ ,　 　　　　　　　　　　　　　　* .　　　　　 　　　　　　　　　　　　　　.　　　　　　　　　　 ✦ 　　　　 　 　　　˚　　　　　　　　　　　　　　*　　　　　　 　　　　　　　　　　　　　　　.　　\n",
    ".　　　　　　　　　　　　　.　　　ﾟ　 　　　.　　　　　　　　　　　　　.\n",
    "　　　　　　,　　　　　　　.　　　　　　 　　　　 　　　　　　　　　　　　　　　　　　 ☀️　　　　　　　　　　　　　　　　　　 　 　　　　　 　　　　*　　　　　　　　　.　　　　　　　　　　.　　　　　　　　　　　　　. 　　　　　　　　　　　　　　　　 　 　　　　 　　　　　　　　　　　　　　　　 　 　　　　　　　　　　　　　　　　 　 ✦ 　 　　　,　　　　　　　　　*　　 🚀 　　　　 　　,　　　 ‍ ‍ ‍ ‍　 　　　　　　　　　　　　.　　　　　 　　 　　　.　　　　　　　　　　　　　 　 　　　　　　　　　　　　　　　　　　　˚　　　 　 　　　　,　　　　　　　　　　　 　 　　　　　　　　　　　　　　　　.　　　 　　 　　　　　 　　　　\n",
    "　　　　　　　　　\n",
    "　　　　　　　　　　　　　* 　　 　　　　　 ✦ 　　　　　　　 　 　　　　 　　 　　　　　　　 　　　　　.　　　　　　　　　　　　　　　　　　.　　　　　 　　. 　 　　　　　.　　　　 🌑　　　　　 　　　　　.                                                   .\n",
    "\n",
    " -->"
   ]
  },
  {
   "cell_type": "code",
   "execution_count": 37,
   "id": "4555ae71",
   "metadata": {
    "execution": {
     "iopub.execute_input": "2022-04-13T08:28:08.709796Z",
     "iopub.status.busy": "2022-04-13T08:28:08.708456Z",
     "iopub.status.idle": "2022-04-13T09:05:37.678554Z",
     "shell.execute_reply": "2022-04-13T09:05:37.679002Z",
     "shell.execute_reply.started": "2022-03-21T13:57:51.319594Z"
    },
    "papermill": {
     "duration": 2249.813274,
     "end_time": "2022-04-13T09:05:37.679148",
     "exception": false,
     "start_time": "2022-04-13T08:28:07.865874",
     "status": "completed"
    },
    "tags": []
   },
   "outputs": [
    {
     "name": "stdout",
     "output_type": "stream",
     "text": [
      "Accuracy on training set: 36.96\n",
      "Accuracy on test set: 35.97\n"
     ]
    }
   ],
   "source": [
    "# Check accuracy on training & test to see how good our model\n",
    "def check_accuracy(loader, model):\n",
    "    num_correct = 0\n",
    "    num_samples = 0\n",
    "    model.eval()\n",
    "\n",
    "    with torch.no_grad():\n",
    "        for x, y in loader:\n",
    "            x = x.to(device=device)\n",
    "            y = y.to(device=device)\n",
    "\n",
    "            scores = model(x)\n",
    "            _, predictions = scores.max(1)\n",
    "            num_correct += (predictions == y).sum()\n",
    "            num_samples += predictions.size(0)\n",
    "\n",
    "\n",
    "    model.train()\n",
    "    return num_correct/num_samples\n",
    "\n",
    "\n",
    "print(f\"Accuracy on training set: {check_accuracy(train_dl, model)*100:.2f}\")\n",
    "print(f\"Accuracy on test set: {check_accuracy(valid_dl, model)*100:.2f}\")"
   ]
  },
  {
   "cell_type": "code",
   "execution_count": null,
   "id": "814cdac9",
   "metadata": {
    "papermill": {
     "duration": 0.847986,
     "end_time": "2022-04-13T09:05:39.365996",
     "exception": false,
     "start_time": "2022-04-13T09:05:38.518010",
     "status": "completed"
    },
    "tags": []
   },
   "outputs": [],
   "source": []
  },
  {
   "cell_type": "code",
   "execution_count": null,
   "id": "d12636c0",
   "metadata": {
    "papermill": {
     "duration": 0.849701,
     "end_time": "2022-04-13T09:05:41.045036",
     "exception": false,
     "start_time": "2022-04-13T09:05:40.195335",
     "status": "completed"
    },
    "tags": []
   },
   "outputs": [],
   "source": []
  },
  {
   "cell_type": "code",
   "execution_count": null,
   "id": "fae4c89e",
   "metadata": {
    "papermill": {
     "duration": 0.854179,
     "end_time": "2022-04-13T09:05:42.722428",
     "exception": false,
     "start_time": "2022-04-13T09:05:41.868249",
     "status": "completed"
    },
    "tags": []
   },
   "outputs": [],
   "source": []
  }
 ],
 "metadata": {
  "kernelspec": {
   "display_name": "Python 3",
   "language": "python",
   "name": "python3"
  },
  "language_info": {
   "codemirror_mode": {
    "name": "ipython",
    "version": 3
   },
   "file_extension": ".py",
   "mimetype": "text/x-python",
   "name": "python",
   "nbconvert_exporter": "python",
   "pygments_lexer": "ipython3",
   "version": "3.7.12"
  },
  "papermill": {
   "default_parameters": {},
   "duration": 7280.917354,
   "end_time": "2022-04-13T09:05:46.309383",
   "environment_variables": {},
   "exception": null,
   "input_path": "__notebook__.ipynb",
   "output_path": "__notebook__.ipynb",
   "parameters": {},
   "start_time": "2022-04-13T07:04:25.392029",
   "version": "2.3.3"
  },
  "widgets": {
   "application/vnd.jupyter.widget-state+json": {
    "state": {
     "0b4222e4a28b4395a65ef5681a5940fd": {
      "model_module": "@jupyter-widgets/controls",
      "model_module_version": "1.5.0",
      "model_name": "FloatProgressModel",
      "state": {
       "_dom_classes": [],
       "_model_module": "@jupyter-widgets/controls",
       "_model_module_version": "1.5.0",
       "_model_name": "FloatProgressModel",
       "_view_count": null,
       "_view_module": "@jupyter-widgets/controls",
       "_view_module_version": "1.5.0",
       "_view_name": "ProgressView",
       "bar_style": "",
       "description": "",
       "description_tooltip": null,
       "layout": "IPY_MODEL_9e7cf69f28d94d4eb89cf98ab544d1d0",
       "max": 1.0,
       "min": 0.0,
       "orientation": "horizontal",
       "style": "IPY_MODEL_d8b0125680324e88ad56e224a4d8a3cc",
       "value": 1.0
      }
     },
     "72985bf2801541c0b803fa082369f273": {
      "model_module": "@jupyter-widgets/base",
      "model_module_version": "1.2.0",
      "model_name": "LayoutModel",
      "state": {
       "_model_module": "@jupyter-widgets/base",
       "_model_module_version": "1.2.0",
       "_model_name": "LayoutModel",
       "_view_count": null,
       "_view_module": "@jupyter-widgets/base",
       "_view_module_version": "1.2.0",
       "_view_name": "LayoutView",
       "align_content": null,
       "align_items": null,
       "align_self": null,
       "border": null,
       "bottom": null,
       "display": null,
       "flex": null,
       "flex_flow": null,
       "grid_area": null,
       "grid_auto_columns": null,
       "grid_auto_flow": null,
       "grid_auto_rows": null,
       "grid_column": null,
       "grid_gap": null,
       "grid_row": null,
       "grid_template_areas": null,
       "grid_template_columns": null,
       "grid_template_rows": null,
       "height": null,
       "justify_content": null,
       "justify_items": null,
       "left": null,
       "margin": null,
       "max_height": null,
       "max_width": null,
       "min_height": null,
       "min_width": null,
       "object_fit": null,
       "object_position": null,
       "order": null,
       "overflow": null,
       "overflow_x": null,
       "overflow_y": null,
       "padding": null,
       "right": null,
       "top": null,
       "visibility": null,
       "width": null
      }
     },
     "88e641c154ff4bfab0b0676f5537b455": {
      "model_module": "@jupyter-widgets/controls",
      "model_module_version": "1.5.0",
      "model_name": "VBoxModel",
      "state": {
       "_dom_classes": [],
       "_model_module": "@jupyter-widgets/controls",
       "_model_module_version": "1.5.0",
       "_model_name": "VBoxModel",
       "_view_count": null,
       "_view_module": "@jupyter-widgets/controls",
       "_view_module_version": "1.5.0",
       "_view_name": "VBoxView",
       "box_style": "",
       "children": [
        "IPY_MODEL_896a5244c99c4b5b8fdbce19710c4582",
        "IPY_MODEL_0b4222e4a28b4395a65ef5681a5940fd"
       ],
       "layout": "IPY_MODEL_bee9048da74443ffb116cf595f61ffd9"
      }
     },
     "896a5244c99c4b5b8fdbce19710c4582": {
      "model_module": "@jupyter-widgets/controls",
      "model_module_version": "1.5.0",
      "model_name": "LabelModel",
      "state": {
       "_dom_classes": [],
       "_model_module": "@jupyter-widgets/controls",
       "_model_module_version": "1.5.0",
       "_model_name": "LabelModel",
       "_view_count": null,
       "_view_module": "@jupyter-widgets/controls",
       "_view_module_version": "1.5.0",
       "_view_name": "LabelView",
       "description": "",
       "description_tooltip": null,
       "layout": "IPY_MODEL_df88a9d49f844a7eb62dcde9b6820a3a",
       "placeholder": "​",
       "style": "IPY_MODEL_94b9c31097364e0fa2531a24a56dfba8",
       "value": "1.864 MB of 1.864 MB uploaded (0.000 MB deduped)\r"
      }
     },
     "94b9c31097364e0fa2531a24a56dfba8": {
      "model_module": "@jupyter-widgets/controls",
      "model_module_version": "1.5.0",
      "model_name": "DescriptionStyleModel",
      "state": {
       "_model_module": "@jupyter-widgets/controls",
       "_model_module_version": "1.5.0",
       "_model_name": "DescriptionStyleModel",
       "_view_count": null,
       "_view_module": "@jupyter-widgets/base",
       "_view_module_version": "1.2.0",
       "_view_name": "StyleView",
       "description_width": ""
      }
     },
     "9e7cf69f28d94d4eb89cf98ab544d1d0": {
      "model_module": "@jupyter-widgets/base",
      "model_module_version": "1.2.0",
      "model_name": "LayoutModel",
      "state": {
       "_model_module": "@jupyter-widgets/base",
       "_model_module_version": "1.2.0",
       "_model_name": "LayoutModel",
       "_view_count": null,
       "_view_module": "@jupyter-widgets/base",
       "_view_module_version": "1.2.0",
       "_view_name": "LayoutView",
       "align_content": null,
       "align_items": null,
       "align_self": null,
       "border": null,
       "bottom": null,
       "display": null,
       "flex": null,
       "flex_flow": null,
       "grid_area": null,
       "grid_auto_columns": null,
       "grid_auto_flow": null,
       "grid_auto_rows": null,
       "grid_column": null,
       "grid_gap": null,
       "grid_row": null,
       "grid_template_areas": null,
       "grid_template_columns": null,
       "grid_template_rows": null,
       "height": null,
       "justify_content": null,
       "justify_items": null,
       "left": null,
       "margin": null,
       "max_height": null,
       "max_width": null,
       "min_height": null,
       "min_width": null,
       "object_fit": null,
       "object_position": null,
       "order": null,
       "overflow": null,
       "overflow_x": null,
       "overflow_y": null,
       "padding": null,
       "right": null,
       "top": null,
       "visibility": null,
       "width": null
      }
     },
     "ab2b7ed721854ef790685046f2f0be70": {
      "model_module": "@jupyter-widgets/base",
      "model_module_version": "1.2.0",
      "model_name": "LayoutModel",
      "state": {
       "_model_module": "@jupyter-widgets/base",
       "_model_module_version": "1.2.0",
       "_model_name": "LayoutModel",
       "_view_count": null,
       "_view_module": "@jupyter-widgets/base",
       "_view_module_version": "1.2.0",
       "_view_name": "LayoutView",
       "align_content": null,
       "align_items": null,
       "align_self": null,
       "border": null,
       "bottom": null,
       "display": null,
       "flex": null,
       "flex_flow": null,
       "grid_area": null,
       "grid_auto_columns": null,
       "grid_auto_flow": null,
       "grid_auto_rows": null,
       "grid_column": null,
       "grid_gap": null,
       "grid_row": null,
       "grid_template_areas": null,
       "grid_template_columns": null,
       "grid_template_rows": null,
       "height": null,
       "justify_content": null,
       "justify_items": null,
       "left": null,
       "margin": null,
       "max_height": null,
       "max_width": null,
       "min_height": null,
       "min_width": null,
       "object_fit": null,
       "object_position": null,
       "order": null,
       "overflow": null,
       "overflow_x": null,
       "overflow_y": null,
       "padding": null,
       "right": null,
       "top": null,
       "visibility": null,
       "width": null
      }
     },
     "b5cdd2f260af4b3792da73345a181b20": {
      "model_module": "@jupyter-widgets/base",
      "model_module_version": "1.2.0",
      "model_name": "LayoutModel",
      "state": {
       "_model_module": "@jupyter-widgets/base",
       "_model_module_version": "1.2.0",
       "_model_name": "LayoutModel",
       "_view_count": null,
       "_view_module": "@jupyter-widgets/base",
       "_view_module_version": "1.2.0",
       "_view_name": "LayoutView",
       "align_content": null,
       "align_items": null,
       "align_self": null,
       "border": null,
       "bottom": null,
       "display": null,
       "flex": null,
       "flex_flow": null,
       "grid_area": null,
       "grid_auto_columns": null,
       "grid_auto_flow": null,
       "grid_auto_rows": null,
       "grid_column": null,
       "grid_gap": null,
       "grid_row": null,
       "grid_template_areas": null,
       "grid_template_columns": null,
       "grid_template_rows": null,
       "height": null,
       "justify_content": null,
       "justify_items": null,
       "left": null,
       "margin": null,
       "max_height": null,
       "max_width": null,
       "min_height": null,
       "min_width": null,
       "object_fit": null,
       "object_position": null,
       "order": null,
       "overflow": null,
       "overflow_x": null,
       "overflow_y": null,
       "padding": null,
       "right": null,
       "top": null,
       "visibility": null,
       "width": null
      }
     },
     "bee9048da74443ffb116cf595f61ffd9": {
      "model_module": "@jupyter-widgets/base",
      "model_module_version": "1.2.0",
      "model_name": "LayoutModel",
      "state": {
       "_model_module": "@jupyter-widgets/base",
       "_model_module_version": "1.2.0",
       "_model_name": "LayoutModel",
       "_view_count": null,
       "_view_module": "@jupyter-widgets/base",
       "_view_module_version": "1.2.0",
       "_view_name": "LayoutView",
       "align_content": null,
       "align_items": null,
       "align_self": null,
       "border": null,
       "bottom": null,
       "display": null,
       "flex": null,
       "flex_flow": null,
       "grid_area": null,
       "grid_auto_columns": null,
       "grid_auto_flow": null,
       "grid_auto_rows": null,
       "grid_column": null,
       "grid_gap": null,
       "grid_row": null,
       "grid_template_areas": null,
       "grid_template_columns": null,
       "grid_template_rows": null,
       "height": null,
       "justify_content": null,
       "justify_items": null,
       "left": null,
       "margin": null,
       "max_height": null,
       "max_width": null,
       "min_height": null,
       "min_width": null,
       "object_fit": null,
       "object_position": null,
       "order": null,
       "overflow": null,
       "overflow_x": null,
       "overflow_y": null,
       "padding": null,
       "right": null,
       "top": null,
       "visibility": null,
       "width": null
      }
     },
     "d70a87200154493ea71f2c38245b9f56": {
      "model_module": "@jupyter-widgets/controls",
      "model_module_version": "1.5.0",
      "model_name": "DescriptionStyleModel",
      "state": {
       "_model_module": "@jupyter-widgets/controls",
       "_model_module_version": "1.5.0",
       "_model_name": "DescriptionStyleModel",
       "_view_count": null,
       "_view_module": "@jupyter-widgets/base",
       "_view_module_version": "1.2.0",
       "_view_name": "StyleView",
       "description_width": ""
      }
     },
     "d8b0125680324e88ad56e224a4d8a3cc": {
      "model_module": "@jupyter-widgets/controls",
      "model_module_version": "1.5.0",
      "model_name": "ProgressStyleModel",
      "state": {
       "_model_module": "@jupyter-widgets/controls",
       "_model_module_version": "1.5.0",
       "_model_name": "ProgressStyleModel",
       "_view_count": null,
       "_view_module": "@jupyter-widgets/base",
       "_view_module_version": "1.2.0",
       "_view_name": "StyleView",
       "bar_color": null,
       "description_width": ""
      }
     },
     "df88a9d49f844a7eb62dcde9b6820a3a": {
      "model_module": "@jupyter-widgets/base",
      "model_module_version": "1.2.0",
      "model_name": "LayoutModel",
      "state": {
       "_model_module": "@jupyter-widgets/base",
       "_model_module_version": "1.2.0",
       "_model_name": "LayoutModel",
       "_view_count": null,
       "_view_module": "@jupyter-widgets/base",
       "_view_module_version": "1.2.0",
       "_view_name": "LayoutView",
       "align_content": null,
       "align_items": null,
       "align_self": null,
       "border": null,
       "bottom": null,
       "display": null,
       "flex": null,
       "flex_flow": null,
       "grid_area": null,
       "grid_auto_columns": null,
       "grid_auto_flow": null,
       "grid_auto_rows": null,
       "grid_column": null,
       "grid_gap": null,
       "grid_row": null,
       "grid_template_areas": null,
       "grid_template_columns": null,
       "grid_template_rows": null,
       "height": null,
       "justify_content": null,
       "justify_items": null,
       "left": null,
       "margin": null,
       "max_height": null,
       "max_width": null,
       "min_height": null,
       "min_width": null,
       "object_fit": null,
       "object_position": null,
       "order": null,
       "overflow": null,
       "overflow_x": null,
       "overflow_y": null,
       "padding": null,
       "right": null,
       "top": null,
       "visibility": null,
       "width": null
      }
     },
     "e2d078d0da3643c299c573833a4918ab": {
      "model_module": "@jupyter-widgets/controls",
      "model_module_version": "1.5.0",
      "model_name": "LabelModel",
      "state": {
       "_dom_classes": [],
       "_model_module": "@jupyter-widgets/controls",
       "_model_module_version": "1.5.0",
       "_model_name": "LabelModel",
       "_view_count": null,
       "_view_module": "@jupyter-widgets/controls",
       "_view_module_version": "1.5.0",
       "_view_name": "LabelView",
       "description": "",
       "description_tooltip": null,
       "layout": "IPY_MODEL_b5cdd2f260af4b3792da73345a181b20",
       "placeholder": "​",
       "style": "IPY_MODEL_d70a87200154493ea71f2c38245b9f56",
       "value": ""
      }
     },
     "f23440887ad1468e993ecdc6498f58b6": {
      "model_module": "@jupyter-widgets/controls",
      "model_module_version": "1.5.0",
      "model_name": "ProgressStyleModel",
      "state": {
       "_model_module": "@jupyter-widgets/controls",
       "_model_module_version": "1.5.0",
       "_model_name": "ProgressStyleModel",
       "_view_count": null,
       "_view_module": "@jupyter-widgets/base",
       "_view_module_version": "1.2.0",
       "_view_name": "StyleView",
       "bar_color": null,
       "description_width": ""
      }
     },
     "fa973e2b878b4fa08341348fabd061ef": {
      "model_module": "@jupyter-widgets/controls",
      "model_module_version": "1.5.0",
      "model_name": "FloatProgressModel",
      "state": {
       "_dom_classes": [],
       "_model_module": "@jupyter-widgets/controls",
       "_model_module_version": "1.5.0",
       "_model_name": "FloatProgressModel",
       "_view_count": null,
       "_view_module": "@jupyter-widgets/controls",
       "_view_module_version": "1.5.0",
       "_view_name": "ProgressView",
       "bar_style": "",
       "description": "",
       "description_tooltip": null,
       "layout": "IPY_MODEL_ab2b7ed721854ef790685046f2f0be70",
       "max": 1.0,
       "min": 0.0,
       "orientation": "horizontal",
       "style": "IPY_MODEL_f23440887ad1468e993ecdc6498f58b6",
       "value": 0.0
      }
     },
     "fef340c7f7504355be9c0740f952dcbb": {
      "model_module": "@jupyter-widgets/controls",
      "model_module_version": "1.5.0",
      "model_name": "VBoxModel",
      "state": {
       "_dom_classes": [],
       "_model_module": "@jupyter-widgets/controls",
       "_model_module_version": "1.5.0",
       "_model_name": "VBoxModel",
       "_view_count": null,
       "_view_module": "@jupyter-widgets/controls",
       "_view_module_version": "1.5.0",
       "_view_name": "VBoxView",
       "box_style": "",
       "children": [
        "IPY_MODEL_e2d078d0da3643c299c573833a4918ab",
        "IPY_MODEL_fa973e2b878b4fa08341348fabd061ef"
       ],
       "layout": "IPY_MODEL_72985bf2801541c0b803fa082369f273"
      }
     }
    },
    "version_major": 2,
    "version_minor": 0
   }
  }
 },
 "nbformat": 4,
 "nbformat_minor": 5
}
